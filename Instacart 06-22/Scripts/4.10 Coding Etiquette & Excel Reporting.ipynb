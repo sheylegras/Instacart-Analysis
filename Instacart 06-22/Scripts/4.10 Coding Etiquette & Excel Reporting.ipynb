{
 "cells": [
  {
   "cell_type": "markdown",
   "id": "4a10125d",
   "metadata": {},
   "source": [
    "# Table of Contents\n",
    "\n",
    "01. Importing Libraries\n",
    "02. Importing Data (full_merge)\n",
    "03. Addressing PII \n",
    "04. Creating a Regional Variable\n",
    "05. Low Activity Customers\n",
    "06. Profiling (Age, Income, Marital, Dependents, Department)\n",
    "07. Additional Visualizations\n",
    "    (07.1 Price Range Distribution\n",
    "    07.2 Brand Loyalty Chart\n",
    "    07.3 Ordering Habits Based on Loyalty Status\n",
    "    07.4 Ordering Habits of Age Groups\n",
    "    07.5 Ordering Habits by Dependents\n",
    "    07.6 Ordering Habits by Income)"
   ]
  },
  {
   "cell_type": "markdown",
   "id": "aac2ffc5",
   "metadata": {},
   "source": [
    "## 01. Importing Libraries"
   ]
  },
  {
   "cell_type": "code",
   "execution_count": 1,
   "id": "b777e920",
   "metadata": {},
   "outputs": [],
   "source": [
    "import pandas as pd\n",
    "import numpy as np\n",
    "import os\n",
    "import matplotlib.pyplot as plt\n",
    "import seaborn as sns\n",
    "import scipy"
   ]
  },
  {
   "cell_type": "markdown",
   "id": "3add0474",
   "metadata": {},
   "source": [
    "## 02. Importing Data"
   ]
  },
  {
   "cell_type": "code",
   "execution_count": 2,
   "id": "dc59ea42",
   "metadata": {},
   "outputs": [],
   "source": [
    "#Define path \n",
    "path = r'C:\\Users\\legra\\Desktop\\06-2022 Instacart Basket Analysis'"
   ]
  },
  {
   "cell_type": "code",
   "execution_count": 3,
   "id": "48ed1282",
   "metadata": {},
   "outputs": [],
   "source": [
    "df_full_merge = pd.read_pickle(os.path.join(path, 'Data', 'Prepared Data', 'full_merge.pkl'))"
   ]
  },
  {
   "cell_type": "code",
   "execution_count": 4,
   "id": "c2e90d3a",
   "metadata": {},
   "outputs": [
    {
     "data": {
      "text/plain": [
       "(32404859, 33)"
      ]
     },
     "execution_count": 4,
     "metadata": {},
     "output_type": "execute_result"
    }
   ],
   "source": [
    "#Checking outputs\n",
    "\n",
    "df_full_merge.shape"
   ]
  },
  {
   "cell_type": "code",
   "execution_count": 5,
   "id": "40dae5be",
   "metadata": {},
   "outputs": [
    {
     "data": {
      "text/html": [
       "<div>\n",
       "<style scoped>\n",
       "    .dataframe tbody tr th:only-of-type {\n",
       "        vertical-align: middle;\n",
       "    }\n",
       "\n",
       "    .dataframe tbody tr th {\n",
       "        vertical-align: top;\n",
       "    }\n",
       "\n",
       "    .dataframe thead th {\n",
       "        text-align: right;\n",
       "    }\n",
       "</style>\n",
       "<table border=\"1\" class=\"dataframe\">\n",
       "  <thead>\n",
       "    <tr style=\"text-align: right;\">\n",
       "      <th></th>\n",
       "      <th>order_id</th>\n",
       "      <th>user_id</th>\n",
       "      <th>order_number</th>\n",
       "      <th>orders_day_of_week</th>\n",
       "      <th>order_hour_of_day</th>\n",
       "      <th>days_since_previous_order</th>\n",
       "      <th>new_customer</th>\n",
       "      <th>product_id</th>\n",
       "      <th>add_to_cart_order</th>\n",
       "      <th>reordered</th>\n",
       "      <th>...</th>\n",
       "      <th>frequency_flag</th>\n",
       "      <th>first_name</th>\n",
       "      <th>last_name</th>\n",
       "      <th>gender</th>\n",
       "      <th>state</th>\n",
       "      <th>age</th>\n",
       "      <th>date_joined</th>\n",
       "      <th>number_of_dependants</th>\n",
       "      <th>marital_status</th>\n",
       "      <th>income</th>\n",
       "    </tr>\n",
       "  </thead>\n",
       "  <tbody>\n",
       "    <tr>\n",
       "      <th>0</th>\n",
       "      <td>2539329</td>\n",
       "      <td>1</td>\n",
       "      <td>1</td>\n",
       "      <td>2</td>\n",
       "      <td>8</td>\n",
       "      <td>NaN</td>\n",
       "      <td>True</td>\n",
       "      <td>196</td>\n",
       "      <td>1</td>\n",
       "      <td>0</td>\n",
       "      <td>...</td>\n",
       "      <td>Non-frequent customer</td>\n",
       "      <td>Linda</td>\n",
       "      <td>Nguyen</td>\n",
       "      <td>Female</td>\n",
       "      <td>Alabama</td>\n",
       "      <td>31</td>\n",
       "      <td>2/17/2019</td>\n",
       "      <td>3</td>\n",
       "      <td>married</td>\n",
       "      <td>40423</td>\n",
       "    </tr>\n",
       "    <tr>\n",
       "      <th>1</th>\n",
       "      <td>2398795</td>\n",
       "      <td>1</td>\n",
       "      <td>2</td>\n",
       "      <td>3</td>\n",
       "      <td>7</td>\n",
       "      <td>15.0</td>\n",
       "      <td>False</td>\n",
       "      <td>196</td>\n",
       "      <td>1</td>\n",
       "      <td>1</td>\n",
       "      <td>...</td>\n",
       "      <td>Non-frequent customer</td>\n",
       "      <td>Linda</td>\n",
       "      <td>Nguyen</td>\n",
       "      <td>Female</td>\n",
       "      <td>Alabama</td>\n",
       "      <td>31</td>\n",
       "      <td>2/17/2019</td>\n",
       "      <td>3</td>\n",
       "      <td>married</td>\n",
       "      <td>40423</td>\n",
       "    </tr>\n",
       "    <tr>\n",
       "      <th>2</th>\n",
       "      <td>473747</td>\n",
       "      <td>1</td>\n",
       "      <td>3</td>\n",
       "      <td>3</td>\n",
       "      <td>12</td>\n",
       "      <td>21.0</td>\n",
       "      <td>False</td>\n",
       "      <td>196</td>\n",
       "      <td>1</td>\n",
       "      <td>1</td>\n",
       "      <td>...</td>\n",
       "      <td>Non-frequent customer</td>\n",
       "      <td>Linda</td>\n",
       "      <td>Nguyen</td>\n",
       "      <td>Female</td>\n",
       "      <td>Alabama</td>\n",
       "      <td>31</td>\n",
       "      <td>2/17/2019</td>\n",
       "      <td>3</td>\n",
       "      <td>married</td>\n",
       "      <td>40423</td>\n",
       "    </tr>\n",
       "    <tr>\n",
       "      <th>3</th>\n",
       "      <td>2254736</td>\n",
       "      <td>1</td>\n",
       "      <td>4</td>\n",
       "      <td>4</td>\n",
       "      <td>7</td>\n",
       "      <td>29.0</td>\n",
       "      <td>False</td>\n",
       "      <td>196</td>\n",
       "      <td>1</td>\n",
       "      <td>1</td>\n",
       "      <td>...</td>\n",
       "      <td>Non-frequent customer</td>\n",
       "      <td>Linda</td>\n",
       "      <td>Nguyen</td>\n",
       "      <td>Female</td>\n",
       "      <td>Alabama</td>\n",
       "      <td>31</td>\n",
       "      <td>2/17/2019</td>\n",
       "      <td>3</td>\n",
       "      <td>married</td>\n",
       "      <td>40423</td>\n",
       "    </tr>\n",
       "    <tr>\n",
       "      <th>4</th>\n",
       "      <td>431534</td>\n",
       "      <td>1</td>\n",
       "      <td>5</td>\n",
       "      <td>4</td>\n",
       "      <td>15</td>\n",
       "      <td>28.0</td>\n",
       "      <td>False</td>\n",
       "      <td>196</td>\n",
       "      <td>1</td>\n",
       "      <td>1</td>\n",
       "      <td>...</td>\n",
       "      <td>Non-frequent customer</td>\n",
       "      <td>Linda</td>\n",
       "      <td>Nguyen</td>\n",
       "      <td>Female</td>\n",
       "      <td>Alabama</td>\n",
       "      <td>31</td>\n",
       "      <td>2/17/2019</td>\n",
       "      <td>3</td>\n",
       "      <td>married</td>\n",
       "      <td>40423</td>\n",
       "    </tr>\n",
       "  </tbody>\n",
       "</table>\n",
       "<p>5 rows × 33 columns</p>\n",
       "</div>"
      ],
      "text/plain": [
       "   order_id user_id  order_number  orders_day_of_week  order_hour_of_day  \\\n",
       "0   2539329       1             1                   2                  8   \n",
       "1   2398795       1             2                   3                  7   \n",
       "2    473747       1             3                   3                 12   \n",
       "3   2254736       1             4                   4                  7   \n",
       "4    431534       1             5                   4                 15   \n",
       "\n",
       "   days_since_previous_order  new_customer  product_id  add_to_cart_order  \\\n",
       "0                        NaN          True         196                  1   \n",
       "1                       15.0         False         196                  1   \n",
       "2                       21.0         False         196                  1   \n",
       "3                       29.0         False         196                  1   \n",
       "4                       28.0         False         196                  1   \n",
       "\n",
       "   reordered  ...         frequency_flag first_name  last_name  gender  \\\n",
       "0          0  ...  Non-frequent customer      Linda     Nguyen  Female   \n",
       "1          1  ...  Non-frequent customer      Linda     Nguyen  Female   \n",
       "2          1  ...  Non-frequent customer      Linda     Nguyen  Female   \n",
       "3          1  ...  Non-frequent customer      Linda     Nguyen  Female   \n",
       "4          1  ...  Non-frequent customer      Linda     Nguyen  Female   \n",
       "\n",
       "     state age date_joined number_of_dependants  marital_status income  \n",
       "0  Alabama  31   2/17/2019                    3         married  40423  \n",
       "1  Alabama  31   2/17/2019                    3         married  40423  \n",
       "2  Alabama  31   2/17/2019                    3         married  40423  \n",
       "3  Alabama  31   2/17/2019                    3         married  40423  \n",
       "4  Alabama  31   2/17/2019                    3         married  40423  \n",
       "\n",
       "[5 rows x 33 columns]"
      ]
     },
     "execution_count": 5,
     "metadata": {},
     "output_type": "execute_result"
    }
   ],
   "source": [
    "df_full_merge.head()"
   ]
  },
  {
   "cell_type": "markdown",
   "id": "a35e05f7",
   "metadata": {},
   "source": [
    "## 03. Addressing PII"
   ]
  },
  {
   "cell_type": "markdown",
   "id": "00c61fc4",
   "metadata": {},
   "source": [
    "Personally identifiable information PII is included in the data, first and last names. They will be removed as it is not important to the analysis."
   ]
  },
  {
   "cell_type": "code",
   "execution_count": 6,
   "id": "af2592c2",
   "metadata": {},
   "outputs": [],
   "source": [
    "#dropping columns\n",
    "\n",
    "df_full_merge = df_full_merge.drop(columns = ['first_name', 'last_name'])"
   ]
  },
  {
   "cell_type": "code",
   "execution_count": 7,
   "id": "3b5e53be",
   "metadata": {},
   "outputs": [
    {
     "data": {
      "text/html": [
       "<div>\n",
       "<style scoped>\n",
       "    .dataframe tbody tr th:only-of-type {\n",
       "        vertical-align: middle;\n",
       "    }\n",
       "\n",
       "    .dataframe tbody tr th {\n",
       "        vertical-align: top;\n",
       "    }\n",
       "\n",
       "    .dataframe thead th {\n",
       "        text-align: right;\n",
       "    }\n",
       "</style>\n",
       "<table border=\"1\" class=\"dataframe\">\n",
       "  <thead>\n",
       "    <tr style=\"text-align: right;\">\n",
       "      <th></th>\n",
       "      <th>order_id</th>\n",
       "      <th>user_id</th>\n",
       "      <th>order_number</th>\n",
       "      <th>orders_day_of_week</th>\n",
       "      <th>order_hour_of_day</th>\n",
       "      <th>days_since_previous_order</th>\n",
       "      <th>new_customer</th>\n",
       "      <th>product_id</th>\n",
       "      <th>add_to_cart_order</th>\n",
       "      <th>reordered</th>\n",
       "      <th>...</th>\n",
       "      <th>spender_flag</th>\n",
       "      <th>order_frequency</th>\n",
       "      <th>frequency_flag</th>\n",
       "      <th>gender</th>\n",
       "      <th>state</th>\n",
       "      <th>age</th>\n",
       "      <th>date_joined</th>\n",
       "      <th>number_of_dependants</th>\n",
       "      <th>marital_status</th>\n",
       "      <th>income</th>\n",
       "    </tr>\n",
       "  </thead>\n",
       "  <tbody>\n",
       "    <tr>\n",
       "      <th>0</th>\n",
       "      <td>2539329</td>\n",
       "      <td>1</td>\n",
       "      <td>1</td>\n",
       "      <td>2</td>\n",
       "      <td>8</td>\n",
       "      <td>NaN</td>\n",
       "      <td>True</td>\n",
       "      <td>196</td>\n",
       "      <td>1</td>\n",
       "      <td>0</td>\n",
       "      <td>...</td>\n",
       "      <td>Low spender</td>\n",
       "      <td>20.5</td>\n",
       "      <td>Non-frequent customer</td>\n",
       "      <td>Female</td>\n",
       "      <td>Alabama</td>\n",
       "      <td>31</td>\n",
       "      <td>2/17/2019</td>\n",
       "      <td>3</td>\n",
       "      <td>married</td>\n",
       "      <td>40423</td>\n",
       "    </tr>\n",
       "    <tr>\n",
       "      <th>1</th>\n",
       "      <td>2398795</td>\n",
       "      <td>1</td>\n",
       "      <td>2</td>\n",
       "      <td>3</td>\n",
       "      <td>7</td>\n",
       "      <td>15.0</td>\n",
       "      <td>False</td>\n",
       "      <td>196</td>\n",
       "      <td>1</td>\n",
       "      <td>1</td>\n",
       "      <td>...</td>\n",
       "      <td>Low spender</td>\n",
       "      <td>20.5</td>\n",
       "      <td>Non-frequent customer</td>\n",
       "      <td>Female</td>\n",
       "      <td>Alabama</td>\n",
       "      <td>31</td>\n",
       "      <td>2/17/2019</td>\n",
       "      <td>3</td>\n",
       "      <td>married</td>\n",
       "      <td>40423</td>\n",
       "    </tr>\n",
       "    <tr>\n",
       "      <th>2</th>\n",
       "      <td>473747</td>\n",
       "      <td>1</td>\n",
       "      <td>3</td>\n",
       "      <td>3</td>\n",
       "      <td>12</td>\n",
       "      <td>21.0</td>\n",
       "      <td>False</td>\n",
       "      <td>196</td>\n",
       "      <td>1</td>\n",
       "      <td>1</td>\n",
       "      <td>...</td>\n",
       "      <td>Low spender</td>\n",
       "      <td>20.5</td>\n",
       "      <td>Non-frequent customer</td>\n",
       "      <td>Female</td>\n",
       "      <td>Alabama</td>\n",
       "      <td>31</td>\n",
       "      <td>2/17/2019</td>\n",
       "      <td>3</td>\n",
       "      <td>married</td>\n",
       "      <td>40423</td>\n",
       "    </tr>\n",
       "    <tr>\n",
       "      <th>3</th>\n",
       "      <td>2254736</td>\n",
       "      <td>1</td>\n",
       "      <td>4</td>\n",
       "      <td>4</td>\n",
       "      <td>7</td>\n",
       "      <td>29.0</td>\n",
       "      <td>False</td>\n",
       "      <td>196</td>\n",
       "      <td>1</td>\n",
       "      <td>1</td>\n",
       "      <td>...</td>\n",
       "      <td>Low spender</td>\n",
       "      <td>20.5</td>\n",
       "      <td>Non-frequent customer</td>\n",
       "      <td>Female</td>\n",
       "      <td>Alabama</td>\n",
       "      <td>31</td>\n",
       "      <td>2/17/2019</td>\n",
       "      <td>3</td>\n",
       "      <td>married</td>\n",
       "      <td>40423</td>\n",
       "    </tr>\n",
       "    <tr>\n",
       "      <th>4</th>\n",
       "      <td>431534</td>\n",
       "      <td>1</td>\n",
       "      <td>5</td>\n",
       "      <td>4</td>\n",
       "      <td>15</td>\n",
       "      <td>28.0</td>\n",
       "      <td>False</td>\n",
       "      <td>196</td>\n",
       "      <td>1</td>\n",
       "      <td>1</td>\n",
       "      <td>...</td>\n",
       "      <td>Low spender</td>\n",
       "      <td>20.5</td>\n",
       "      <td>Non-frequent customer</td>\n",
       "      <td>Female</td>\n",
       "      <td>Alabama</td>\n",
       "      <td>31</td>\n",
       "      <td>2/17/2019</td>\n",
       "      <td>3</td>\n",
       "      <td>married</td>\n",
       "      <td>40423</td>\n",
       "    </tr>\n",
       "  </tbody>\n",
       "</table>\n",
       "<p>5 rows × 31 columns</p>\n",
       "</div>"
      ],
      "text/plain": [
       "   order_id user_id  order_number  orders_day_of_week  order_hour_of_day  \\\n",
       "0   2539329       1             1                   2                  8   \n",
       "1   2398795       1             2                   3                  7   \n",
       "2    473747       1             3                   3                 12   \n",
       "3   2254736       1             4                   4                  7   \n",
       "4    431534       1             5                   4                 15   \n",
       "\n",
       "   days_since_previous_order  new_customer  product_id  add_to_cart_order  \\\n",
       "0                        NaN          True         196                  1   \n",
       "1                       15.0         False         196                  1   \n",
       "2                       21.0         False         196                  1   \n",
       "3                       29.0         False         196                  1   \n",
       "4                       28.0         False         196                  1   \n",
       "\n",
       "   reordered  ... spender_flag order_frequency         frequency_flag  gender  \\\n",
       "0          0  ...  Low spender            20.5  Non-frequent customer  Female   \n",
       "1          1  ...  Low spender            20.5  Non-frequent customer  Female   \n",
       "2          1  ...  Low spender            20.5  Non-frequent customer  Female   \n",
       "3          1  ...  Low spender            20.5  Non-frequent customer  Female   \n",
       "4          1  ...  Low spender            20.5  Non-frequent customer  Female   \n",
       "\n",
       "     state age date_joined number_of_dependants  marital_status income  \n",
       "0  Alabama  31   2/17/2019                    3         married  40423  \n",
       "1  Alabama  31   2/17/2019                    3         married  40423  \n",
       "2  Alabama  31   2/17/2019                    3         married  40423  \n",
       "3  Alabama  31   2/17/2019                    3         married  40423  \n",
       "4  Alabama  31   2/17/2019                    3         married  40423  \n",
       "\n",
       "[5 rows x 31 columns]"
      ]
     },
     "execution_count": 7,
     "metadata": {},
     "output_type": "execute_result"
    }
   ],
   "source": [
    "#checking dropped columns\n",
    "\n",
    "df_full_merge.head()"
   ]
  },
  {
   "cell_type": "markdown",
   "id": "6fae493a",
   "metadata": {},
   "source": [
    "Crosstabs in Python"
   ]
  },
  {
   "cell_type": "code",
   "execution_count": 8,
   "id": "46924e4d",
   "metadata": {},
   "outputs": [],
   "source": [
    "crosstab = pd.crosstab(df_full_merge['days_since_previous_order'], df_full_merge['order_number'], dropna = False)"
   ]
  },
  {
   "cell_type": "code",
   "execution_count": 9,
   "id": "e2e72ecc",
   "metadata": {},
   "outputs": [],
   "source": [
    "crosstab.to_clipboard()"
   ]
  },
  {
   "cell_type": "markdown",
   "id": "f269a142",
   "metadata": {},
   "source": [
    "## 04. Creating a Regional variable"
   ]
  },
  {
   "cell_type": "markdown",
   "id": "38ca9eb5",
   "metadata": {},
   "source": [
    "The Instacart officers are interested in comparing customer behavior in different geographic areas."
   ]
  },
  {
   "cell_type": "code",
   "execution_count": 10,
   "id": "f5fded7c",
   "metadata": {},
   "outputs": [],
   "source": [
    "#define function\n",
    "\n",
    "result = []\n",
    "\n",
    "for value in df_full_merge['state']:\n",
    "    if value in ['Maine', 'New Hampshire', 'Vermont', 'Massachusetts', 'Rhode Island', 'Connecticut', 'New York', 'Pennsylvania', 'New Jersey']:\n",
    "        result.append('Northeast')\n",
    "    elif value in ['Wisconsin', 'Michigan', 'Illinois', 'Indiana', 'Ohio', 'North Dakota', 'South Dakota', 'Nebraska', 'Kansas', 'Minnesota', 'Iowa', 'Missouri']:\n",
    "        result.append('Midwest')\n",
    "    elif value in ['Delaware', 'Maryland', 'District of Columbia', 'Virginia', 'West Virginia', 'North Carolina', 'South Carolina', 'Georgia', 'Florida', 'Kentucky', 'Tennessee', 'Mississippi','Alabama', 'Oklahoma', 'Texas', 'Arkansas', 'Louisiana']:\n",
    "        result.append('South')\n",
    "    else:\n",
    "        result.append('West')"
   ]
  },
  {
   "cell_type": "code",
   "execution_count": 11,
   "id": "440a50cb",
   "metadata": {},
   "outputs": [],
   "source": [
    "#Creating new column\n",
    "\n",
    "df_full_merge['region'] = result"
   ]
  },
  {
   "cell_type": "code",
   "execution_count": 12,
   "id": "dcdfa423",
   "metadata": {},
   "outputs": [
    {
     "data": {
      "text/plain": [
       "South        10791885\n",
       "West          8292913\n",
       "Midwest       7597325\n",
       "Northeast     5722736\n",
       "Name: region, dtype: int64"
      ]
     },
     "execution_count": 12,
     "metadata": {},
     "output_type": "execute_result"
    }
   ],
   "source": [
    "df_full_merge['region'].value_counts(dropna = False)"
   ]
  },
  {
   "cell_type": "code",
   "execution_count": 13,
   "id": "3568a0b0",
   "metadata": {},
   "outputs": [],
   "source": [
    "#creating crosstab to check spending across regions\n",
    "\n",
    "crosstab2 = pd.crosstab(df_full_merge['region'], df_full_merge['spender_flag'], dropna = False)"
   ]
  },
  {
   "cell_type": "code",
   "execution_count": 14,
   "id": "1139124f",
   "metadata": {},
   "outputs": [
    {
     "data": {
      "text/html": [
       "<div>\n",
       "<style scoped>\n",
       "    .dataframe tbody tr th:only-of-type {\n",
       "        vertical-align: middle;\n",
       "    }\n",
       "\n",
       "    .dataframe tbody tr th {\n",
       "        vertical-align: top;\n",
       "    }\n",
       "\n",
       "    .dataframe thead th {\n",
       "        text-align: right;\n",
       "    }\n",
       "</style>\n",
       "<table border=\"1\" class=\"dataframe\">\n",
       "  <thead>\n",
       "    <tr style=\"text-align: right;\">\n",
       "      <th>spender_flag</th>\n",
       "      <th>High spender</th>\n",
       "      <th>Low spender</th>\n",
       "    </tr>\n",
       "    <tr>\n",
       "      <th>region</th>\n",
       "      <th></th>\n",
       "      <th></th>\n",
       "    </tr>\n",
       "  </thead>\n",
       "  <tbody>\n",
       "    <tr>\n",
       "      <th>Midwest</th>\n",
       "      <td>155975</td>\n",
       "      <td>7441350</td>\n",
       "    </tr>\n",
       "    <tr>\n",
       "      <th>Northeast</th>\n",
       "      <td>108225</td>\n",
       "      <td>5614511</td>\n",
       "    </tr>\n",
       "    <tr>\n",
       "      <th>South</th>\n",
       "      <td>209691</td>\n",
       "      <td>10582194</td>\n",
       "    </tr>\n",
       "    <tr>\n",
       "      <th>West</th>\n",
       "      <td>160354</td>\n",
       "      <td>8132559</td>\n",
       "    </tr>\n",
       "  </tbody>\n",
       "</table>\n",
       "</div>"
      ],
      "text/plain": [
       "spender_flag  High spender  Low spender\n",
       "region                                 \n",
       "Midwest             155975      7441350\n",
       "Northeast           108225      5614511\n",
       "South               209691     10582194\n",
       "West                160354      8132559"
      ]
     },
     "execution_count": 14,
     "metadata": {},
     "output_type": "execute_result"
    }
   ],
   "source": [
    "crosstab2"
   ]
  },
  {
   "cell_type": "markdown",
   "id": "0d69428e",
   "metadata": {},
   "source": [
    "The spending across the regions are similar in nature."
   ]
  },
  {
   "cell_type": "code",
   "execution_count": 15,
   "id": "e21086a2",
   "metadata": {},
   "outputs": [
    {
     "data": {
      "image/png": "[encoded data removed]",
      "text/plain": [
       "<Figure size 432x288 with 1 Axes>"
      ]
     },
     "metadata": {
      "needs_background": "light"
     },
     "output_type": "display_data"
    }
   ],
   "source": [
    "#creat bar chart\n",
    "\n",
    "region = df_full_merge['region'].value_counts().plot.bar(color = 'green')"
   ]
  },
  {
   "cell_type": "code",
   "execution_count": 16,
   "id": "ba5099cb",
   "metadata": {},
   "outputs": [
    {
     "data": {
      "image/png": "[encoded data removed]",
      "text/plain": [
       "<Figure size 432x288 with 1 Axes>"
      ]
     },
     "metadata": {
      "needs_background": "light"
     },
     "output_type": "display_data"
    }
   ],
   "source": [
    "#create stacked bar\n",
    "crosstab2_bar = crosstab2.plot(kind = 'bar', stacked = True, title = 'Spender Flag By Region')"
   ]
  },
  {
   "cell_type": "code",
   "execution_count": 17,
   "id": "59f8affb",
   "metadata": {},
   "outputs": [],
   "source": [
    "#saving viz\n",
    "region.figure.savefig(os.path.join(path, 'Analysis', 'Visualizations', 'region_bar.png'))\n",
    "crosstab2_bar.figure.savefig(os.path.join(path, 'Analysis', 'Visualizations', 'region_spender_bar.png'))"
   ]
  },
  {
   "cell_type": "markdown",
   "id": "bf8b82d8",
   "metadata": {},
   "source": [
    "## 05. Low activity customers"
   ]
  },
  {
   "cell_type": "markdown",
   "id": "03cd8885",
   "metadata": {},
   "source": [
    "The Instacart CFO isn’t interested in customers who don’t generate much revenue for the app. Create an exclusion flag for low-activity customers (customers with less than 5 orders) and exclude them from the data. \n",
    "\n",
    "This dataframe will be used for analysis moving forward."
   ]
  },
  {
   "cell_type": "code",
   "execution_count": 18,
   "id": "37903295",
   "metadata": {},
   "outputs": [
    {
     "data": {
      "text/plain": [
       "Index(['order_id', 'user_id', 'order_number', 'orders_day_of_week',\n",
       "       'order_hour_of_day', 'days_since_previous_order', 'new_customer',\n",
       "       'product_id', 'add_to_cart_order', 'reordered', '_merge',\n",
       "       'product_name', 'aisle_id', 'department_id', 'prices',\n",
       "       'price_range_loc', 'busiest_days', 'busiest_period_of_day', 'max_order',\n",
       "       'loyalty_flag', 'avg_spent', 'spender_flag', 'order_frequency',\n",
       "       'frequency_flag', 'gender', 'state', 'age', 'date_joined',\n",
       "       'number_of_dependants', 'marital_status', 'income', 'region'],\n",
       "      dtype='object')"
      ]
     },
     "execution_count": 18,
     "metadata": {},
     "output_type": "execute_result"
    }
   ],
   "source": [
    "#checking column names\n",
    "df_full_merge.columns"
   ]
  },
  {
   "cell_type": "code",
   "execution_count": 19,
   "id": "b06b28cb",
   "metadata": {},
   "outputs": [],
   "source": [
    "#creating flags\n",
    "\n",
    "df_full_merge.loc[df_full_merge['max_order'] < 5, 'activity_flag'] = 'Low activity customer'\n",
    "df_full_merge.loc[df_full_merge['max_order'] >= 5, 'activity_flag'] = 'Normal activity customer'"
   ]
  },
  {
   "cell_type": "code",
   "execution_count": 20,
   "id": "e1388c15",
   "metadata": {},
   "outputs": [
    {
     "data": {
      "text/plain": [
       "Normal activity customer    30964564\n",
       "Low activity customer        1440295\n",
       "Name: activity_flag, dtype: int64"
      ]
     },
     "execution_count": 20,
     "metadata": {},
     "output_type": "execute_result"
    }
   ],
   "source": [
    "#checking output\n",
    "\n",
    "df_full_merge['activity_flag'].value_counts(dropna = False)"
   ]
  },
  {
   "cell_type": "code",
   "execution_count": 21,
   "id": "12ab985b",
   "metadata": {},
   "outputs": [],
   "source": [
    "#creating subset\n",
    "\n",
    "df = df_full_merge[df_full_merge['activity_flag'] =='Normal activity customer']"
   ]
  },
  {
   "cell_type": "code",
   "execution_count": 22,
   "id": "10aad687",
   "metadata": {},
   "outputs": [
    {
     "data": {
      "text/html": [
       "<div>\n",
       "<style scoped>\n",
       "    .dataframe tbody tr th:only-of-type {\n",
       "        vertical-align: middle;\n",
       "    }\n",
       "\n",
       "    .dataframe tbody tr th {\n",
       "        vertical-align: top;\n",
       "    }\n",
       "\n",
       "    .dataframe thead th {\n",
       "        text-align: right;\n",
       "    }\n",
       "</style>\n",
       "<table border=\"1\" class=\"dataframe\">\n",
       "  <thead>\n",
       "    <tr style=\"text-align: right;\">\n",
       "      <th></th>\n",
       "      <th>order_id</th>\n",
       "      <th>user_id</th>\n",
       "      <th>order_number</th>\n",
       "      <th>orders_day_of_week</th>\n",
       "      <th>order_hour_of_day</th>\n",
       "      <th>days_since_previous_order</th>\n",
       "      <th>new_customer</th>\n",
       "      <th>product_id</th>\n",
       "      <th>add_to_cart_order</th>\n",
       "      <th>reordered</th>\n",
       "      <th>...</th>\n",
       "      <th>frequency_flag</th>\n",
       "      <th>gender</th>\n",
       "      <th>state</th>\n",
       "      <th>age</th>\n",
       "      <th>date_joined</th>\n",
       "      <th>number_of_dependants</th>\n",
       "      <th>marital_status</th>\n",
       "      <th>income</th>\n",
       "      <th>region</th>\n",
       "      <th>activity_flag</th>\n",
       "    </tr>\n",
       "  </thead>\n",
       "  <tbody>\n",
       "    <tr>\n",
       "      <th>0</th>\n",
       "      <td>2539329</td>\n",
       "      <td>1</td>\n",
       "      <td>1</td>\n",
       "      <td>2</td>\n",
       "      <td>8</td>\n",
       "      <td>NaN</td>\n",
       "      <td>True</td>\n",
       "      <td>196</td>\n",
       "      <td>1</td>\n",
       "      <td>0</td>\n",
       "      <td>...</td>\n",
       "      <td>Non-frequent customer</td>\n",
       "      <td>Female</td>\n",
       "      <td>Alabama</td>\n",
       "      <td>31</td>\n",
       "      <td>2/17/2019</td>\n",
       "      <td>3</td>\n",
       "      <td>married</td>\n",
       "      <td>40423</td>\n",
       "      <td>South</td>\n",
       "      <td>Normal activity customer</td>\n",
       "    </tr>\n",
       "    <tr>\n",
       "      <th>1</th>\n",
       "      <td>2398795</td>\n",
       "      <td>1</td>\n",
       "      <td>2</td>\n",
       "      <td>3</td>\n",
       "      <td>7</td>\n",
       "      <td>15.0</td>\n",
       "      <td>False</td>\n",
       "      <td>196</td>\n",
       "      <td>1</td>\n",
       "      <td>1</td>\n",
       "      <td>...</td>\n",
       "      <td>Non-frequent customer</td>\n",
       "      <td>Female</td>\n",
       "      <td>Alabama</td>\n",
       "      <td>31</td>\n",
       "      <td>2/17/2019</td>\n",
       "      <td>3</td>\n",
       "      <td>married</td>\n",
       "      <td>40423</td>\n",
       "      <td>South</td>\n",
       "      <td>Normal activity customer</td>\n",
       "    </tr>\n",
       "    <tr>\n",
       "      <th>2</th>\n",
       "      <td>473747</td>\n",
       "      <td>1</td>\n",
       "      <td>3</td>\n",
       "      <td>3</td>\n",
       "      <td>12</td>\n",
       "      <td>21.0</td>\n",
       "      <td>False</td>\n",
       "      <td>196</td>\n",
       "      <td>1</td>\n",
       "      <td>1</td>\n",
       "      <td>...</td>\n",
       "      <td>Non-frequent customer</td>\n",
       "      <td>Female</td>\n",
       "      <td>Alabama</td>\n",
       "      <td>31</td>\n",
       "      <td>2/17/2019</td>\n",
       "      <td>3</td>\n",
       "      <td>married</td>\n",
       "      <td>40423</td>\n",
       "      <td>South</td>\n",
       "      <td>Normal activity customer</td>\n",
       "    </tr>\n",
       "    <tr>\n",
       "      <th>3</th>\n",
       "      <td>2254736</td>\n",
       "      <td>1</td>\n",
       "      <td>4</td>\n",
       "      <td>4</td>\n",
       "      <td>7</td>\n",
       "      <td>29.0</td>\n",
       "      <td>False</td>\n",
       "      <td>196</td>\n",
       "      <td>1</td>\n",
       "      <td>1</td>\n",
       "      <td>...</td>\n",
       "      <td>Non-frequent customer</td>\n",
       "      <td>Female</td>\n",
       "      <td>Alabama</td>\n",
       "      <td>31</td>\n",
       "      <td>2/17/2019</td>\n",
       "      <td>3</td>\n",
       "      <td>married</td>\n",
       "      <td>40423</td>\n",
       "      <td>South</td>\n",
       "      <td>Normal activity customer</td>\n",
       "    </tr>\n",
       "    <tr>\n",
       "      <th>4</th>\n",
       "      <td>431534</td>\n",
       "      <td>1</td>\n",
       "      <td>5</td>\n",
       "      <td>4</td>\n",
       "      <td>15</td>\n",
       "      <td>28.0</td>\n",
       "      <td>False</td>\n",
       "      <td>196</td>\n",
       "      <td>1</td>\n",
       "      <td>1</td>\n",
       "      <td>...</td>\n",
       "      <td>Non-frequent customer</td>\n",
       "      <td>Female</td>\n",
       "      <td>Alabama</td>\n",
       "      <td>31</td>\n",
       "      <td>2/17/2019</td>\n",
       "      <td>3</td>\n",
       "      <td>married</td>\n",
       "      <td>40423</td>\n",
       "      <td>South</td>\n",
       "      <td>Normal activity customer</td>\n",
       "    </tr>\n",
       "  </tbody>\n",
       "</table>\n",
       "<p>5 rows × 33 columns</p>\n",
       "</div>"
      ],
      "text/plain": [
       "   order_id user_id  order_number  orders_day_of_week  order_hour_of_day  \\\n",
       "0   2539329       1             1                   2                  8   \n",
       "1   2398795       1             2                   3                  7   \n",
       "2    473747       1             3                   3                 12   \n",
       "3   2254736       1             4                   4                  7   \n",
       "4    431534       1             5                   4                 15   \n",
       "\n",
       "   days_since_previous_order  new_customer  product_id  add_to_cart_order  \\\n",
       "0                        NaN          True         196                  1   \n",
       "1                       15.0         False         196                  1   \n",
       "2                       21.0         False         196                  1   \n",
       "3                       29.0         False         196                  1   \n",
       "4                       28.0         False         196                  1   \n",
       "\n",
       "   reordered  ...         frequency_flag  gender    state  age  date_joined  \\\n",
       "0          0  ...  Non-frequent customer  Female  Alabama   31    2/17/2019   \n",
       "1          1  ...  Non-frequent customer  Female  Alabama   31    2/17/2019   \n",
       "2          1  ...  Non-frequent customer  Female  Alabama   31    2/17/2019   \n",
       "3          1  ...  Non-frequent customer  Female  Alabama   31    2/17/2019   \n",
       "4          1  ...  Non-frequent customer  Female  Alabama   31    2/17/2019   \n",
       "\n",
       "  number_of_dependants marital_status income  region             activity_flag  \n",
       "0                    3        married  40423   South  Normal activity customer  \n",
       "1                    3        married  40423   South  Normal activity customer  \n",
       "2                    3        married  40423   South  Normal activity customer  \n",
       "3                    3        married  40423   South  Normal activity customer  \n",
       "4                    3        married  40423   South  Normal activity customer  \n",
       "\n",
       "[5 rows x 33 columns]"
      ]
     },
     "execution_count": 22,
     "metadata": {},
     "output_type": "execute_result"
    }
   ],
   "source": [
    "df.head()"
   ]
  },
  {
   "cell_type": "code",
   "execution_count": 23,
   "id": "80f213b0",
   "metadata": {},
   "outputs": [],
   "source": [
    "#export df\n",
    "\n",
    "df.to_pickle(os.path.join(path, 'Data', 'Prepared Data', 'normal_activity_cust.pkl'))"
   ]
  },
  {
   "cell_type": "markdown",
   "id": "45dd0dcc",
   "metadata": {},
   "source": [
    "## 06. Profiling"
   ]
  },
  {
   "cell_type": "markdown",
   "id": "316987bb",
   "metadata": {},
   "source": [
    "### Age"
   ]
  },
  {
   "cell_type": "code",
   "execution_count": 25,
   "id": "ce35b681",
   "metadata": {},
   "outputs": [],
   "source": [
    "#creating age group flags\n",
    "\n",
    "df.loc[df['age'] <= 24, 'age_group'] = 'Young adult'\n",
    "df.loc[(df['age'] > 24) & (df['age'] < 65), 'age_group'] = 'Adult'\n",
    "df.loc[df['age'] >= 65, 'age_group'] = 'Senior'"
   ]
  },
  {
   "cell_type": "code",
   "execution_count": 26,
   "id": "0d9e31cf",
   "metadata": {},
   "outputs": [
    {
     "data": {
      "text/plain": [
       "Adult          19353826\n",
       "Senior          8195544\n",
       "Young adult     3415194\n",
       "Name: age_group, dtype: int64"
      ]
     },
     "execution_count": 26,
     "metadata": {},
     "output_type": "execute_result"
    }
   ],
   "source": [
    "df['age_group'].value_counts()"
   ]
  },
  {
   "cell_type": "code",
   "execution_count": 27,
   "id": "789c4f39",
   "metadata": {},
   "outputs": [
    {
     "data": {
      "text/html": [
       "<div>\n",
       "<style scoped>\n",
       "    .dataframe tbody tr th:only-of-type {\n",
       "        vertical-align: middle;\n",
       "    }\n",
       "\n",
       "    .dataframe tbody tr th {\n",
       "        vertical-align: top;\n",
       "    }\n",
       "\n",
       "    .dataframe thead tr th {\n",
       "        text-align: left;\n",
       "    }\n",
       "\n",
       "    .dataframe thead tr:last-of-type th {\n",
       "        text-align: right;\n",
       "    }\n",
       "</style>\n",
       "<table border=\"1\" class=\"dataframe\">\n",
       "  <thead>\n",
       "    <tr>\n",
       "      <th></th>\n",
       "      <th colspan=\"3\" halign=\"left\">prices</th>\n",
       "    </tr>\n",
       "    <tr>\n",
       "      <th></th>\n",
       "      <th>mean</th>\n",
       "      <th>min</th>\n",
       "      <th>max</th>\n",
       "    </tr>\n",
       "    <tr>\n",
       "      <th>age_group</th>\n",
       "      <th></th>\n",
       "      <th></th>\n",
       "      <th></th>\n",
       "    </tr>\n",
       "  </thead>\n",
       "  <tbody>\n",
       "    <tr>\n",
       "      <th>Adult</th>\n",
       "      <td>7.789062</td>\n",
       "      <td>1.0</td>\n",
       "      <td>25.0</td>\n",
       "    </tr>\n",
       "    <tr>\n",
       "      <th>Senior</th>\n",
       "      <td>7.796875</td>\n",
       "      <td>1.0</td>\n",
       "      <td>25.0</td>\n",
       "    </tr>\n",
       "    <tr>\n",
       "      <th>Young adult</th>\n",
       "      <td>7.789062</td>\n",
       "      <td>1.0</td>\n",
       "      <td>25.0</td>\n",
       "    </tr>\n",
       "  </tbody>\n",
       "</table>\n",
       "</div>"
      ],
      "text/plain": [
       "               prices           \n",
       "                 mean  min   max\n",
       "age_group                       \n",
       "Adult        7.789062  1.0  25.0\n",
       "Senior       7.796875  1.0  25.0\n",
       "Young adult  7.789062  1.0  25.0"
      ]
     },
     "execution_count": 27,
     "metadata": {},
     "output_type": "execute_result"
    }
   ],
   "source": [
    "#aggregating prices by age group\n",
    "df.groupby('age_group').agg({'prices': ['mean', 'min', 'max']})"
   ]
  },
  {
   "cell_type": "code",
   "execution_count": 28,
   "id": "3516aecc",
   "metadata": {
    "scrolled": true
   },
   "outputs": [
    {
     "data": {
      "text/html": [
       "<div>\n",
       "<style scoped>\n",
       "    .dataframe tbody tr th:only-of-type {\n",
       "        vertical-align: middle;\n",
       "    }\n",
       "\n",
       "    .dataframe tbody tr th {\n",
       "        vertical-align: top;\n",
       "    }\n",
       "\n",
       "    .dataframe thead tr th {\n",
       "        text-align: left;\n",
       "    }\n",
       "\n",
       "    .dataframe thead tr:last-of-type th {\n",
       "        text-align: right;\n",
       "    }\n",
       "</style>\n",
       "<table border=\"1\" class=\"dataframe\">\n",
       "  <thead>\n",
       "    <tr>\n",
       "      <th></th>\n",
       "      <th colspan=\"3\" halign=\"left\">days_since_previous_order</th>\n",
       "    </tr>\n",
       "    <tr>\n",
       "      <th></th>\n",
       "      <th>mean</th>\n",
       "      <th>min</th>\n",
       "      <th>max</th>\n",
       "    </tr>\n",
       "    <tr>\n",
       "      <th>age_group</th>\n",
       "      <th></th>\n",
       "      <th></th>\n",
       "      <th></th>\n",
       "    </tr>\n",
       "  </thead>\n",
       "  <tbody>\n",
       "    <tr>\n",
       "      <th>Adult</th>\n",
       "      <td>10.828125</td>\n",
       "      <td>0.0</td>\n",
       "      <td>30.0</td>\n",
       "    </tr>\n",
       "    <tr>\n",
       "      <th>Senior</th>\n",
       "      <td>10.789062</td>\n",
       "      <td>0.0</td>\n",
       "      <td>30.0</td>\n",
       "    </tr>\n",
       "    <tr>\n",
       "      <th>Young adult</th>\n",
       "      <td>10.765625</td>\n",
       "      <td>0.0</td>\n",
       "      <td>30.0</td>\n",
       "    </tr>\n",
       "  </tbody>\n",
       "</table>\n",
       "</div>"
      ],
      "text/plain": [
       "            days_since_previous_order           \n",
       "                                 mean  min   max\n",
       "age_group                                       \n",
       "Adult                       10.828125  0.0  30.0\n",
       "Senior                      10.789062  0.0  30.0\n",
       "Young adult                 10.765625  0.0  30.0"
      ]
     },
     "execution_count": 28,
     "metadata": {},
     "output_type": "execute_result"
    }
   ],
   "source": [
    "#aggregating order frequency by age group\n",
    "df.groupby('age_group').agg({'days_since_previous_order':['mean', 'min', 'max']})"
   ]
  },
  {
   "cell_type": "code",
   "execution_count": 30,
   "id": "11e21391",
   "metadata": {},
   "outputs": [
    {
     "data": {
      "image/png": "[encoded data removed]",
      "text/plain": [
       "<Figure size 432x288 with 1 Axes>"
      ]
     },
     "metadata": {
      "needs_background": "light"
     },
     "output_type": "display_data"
    }
   ],
   "source": [
    "#create bar chart\n",
    "age_bar = df['age_group'].value_counts().plot.bar(ylabel = 'Count (tens of millions)')"
   ]
  },
  {
   "cell_type": "code",
   "execution_count": 31,
   "id": "48e3dab0",
   "metadata": {},
   "outputs": [],
   "source": [
    "#save viz\n",
    "age_bar.figure.savefig(os.path.join(path, 'Analysis', 'Visualizations', 'bar_age_group.png'))"
   ]
  },
  {
   "cell_type": "markdown",
   "id": "3db6c9c2",
   "metadata": {},
   "source": [
    "### Income"
   ]
  },
  {
   "cell_type": "code",
   "execution_count": 33,
   "id": "fac8f698",
   "metadata": {},
   "outputs": [],
   "source": [
    "#creating income flags\n",
    "\n",
    "#Low income 0-52200\n",
    "df.loc[df['income'] <= 52200, 'income_flag'] = 'Low income'\n",
    "#Middle income 52201-156600\n",
    "df.loc[(df['income'] > 52200) & (df['income'] <= 156600 ), 'income_flag'] = 'Middle income'\n",
    "#Upper income 156601 and up\n",
    "df.loc[df['income'] > 156600, 'income_flag'] = 'Upper income'"
   ]
  },
  {
   "cell_type": "code",
   "execution_count": 34,
   "id": "59baf6db",
   "metadata": {},
   "outputs": [
    {
     "data": {
      "text/plain": [
       "Middle income    24540648\n",
       "Low income        3692453\n",
       "Upper income      2731463\n",
       "Name: income_flag, dtype: int64"
      ]
     },
     "execution_count": 34,
     "metadata": {},
     "output_type": "execute_result"
    }
   ],
   "source": [
    "df['income_flag'].value_counts()"
   ]
  },
  {
   "cell_type": "code",
   "execution_count": 35,
   "id": "f5c356cb",
   "metadata": {},
   "outputs": [
    {
     "data": {
      "text/html": [
       "<div>\n",
       "<style scoped>\n",
       "    .dataframe tbody tr th:only-of-type {\n",
       "        vertical-align: middle;\n",
       "    }\n",
       "\n",
       "    .dataframe tbody tr th {\n",
       "        vertical-align: top;\n",
       "    }\n",
       "\n",
       "    .dataframe thead tr th {\n",
       "        text-align: left;\n",
       "    }\n",
       "\n",
       "    .dataframe thead tr:last-of-type th {\n",
       "        text-align: right;\n",
       "    }\n",
       "</style>\n",
       "<table border=\"1\" class=\"dataframe\">\n",
       "  <thead>\n",
       "    <tr>\n",
       "      <th></th>\n",
       "      <th colspan=\"3\" halign=\"left\">prices</th>\n",
       "    </tr>\n",
       "    <tr>\n",
       "      <th></th>\n",
       "      <th>mean</th>\n",
       "      <th>min</th>\n",
       "      <th>max</th>\n",
       "    </tr>\n",
       "    <tr>\n",
       "      <th>income_flag</th>\n",
       "      <th></th>\n",
       "      <th></th>\n",
       "      <th></th>\n",
       "    </tr>\n",
       "  </thead>\n",
       "  <tbody>\n",
       "    <tr>\n",
       "      <th>Low income</th>\n",
       "      <td>6.765625</td>\n",
       "      <td>1.0</td>\n",
       "      <td>25.0</td>\n",
       "    </tr>\n",
       "    <tr>\n",
       "      <th>Middle income</th>\n",
       "      <td>7.929688</td>\n",
       "      <td>1.0</td>\n",
       "      <td>25.0</td>\n",
       "    </tr>\n",
       "    <tr>\n",
       "      <th>Upper income</th>\n",
       "      <td>7.937500</td>\n",
       "      <td>1.0</td>\n",
       "      <td>25.0</td>\n",
       "    </tr>\n",
       "  </tbody>\n",
       "</table>\n",
       "</div>"
      ],
      "text/plain": [
       "                 prices           \n",
       "                   mean  min   max\n",
       "income_flag                       \n",
       "Low income     6.765625  1.0  25.0\n",
       "Middle income  7.929688  1.0  25.0\n",
       "Upper income   7.937500  1.0  25.0"
      ]
     },
     "execution_count": 35,
     "metadata": {},
     "output_type": "execute_result"
    }
   ],
   "source": [
    "#aggregating expenditures by income flag\n",
    "df.groupby('income_flag').agg({'prices':['mean', 'min', 'max']})"
   ]
  },
  {
   "cell_type": "code",
   "execution_count": 36,
   "id": "f530eb00",
   "metadata": {
    "scrolled": true
   },
   "outputs": [
    {
     "data": {
      "text/html": [
       "<div>\n",
       "<style scoped>\n",
       "    .dataframe tbody tr th:only-of-type {\n",
       "        vertical-align: middle;\n",
       "    }\n",
       "\n",
       "    .dataframe tbody tr th {\n",
       "        vertical-align: top;\n",
       "    }\n",
       "\n",
       "    .dataframe thead tr th {\n",
       "        text-align: left;\n",
       "    }\n",
       "\n",
       "    .dataframe thead tr:last-of-type th {\n",
       "        text-align: right;\n",
       "    }\n",
       "</style>\n",
       "<table border=\"1\" class=\"dataframe\">\n",
       "  <thead>\n",
       "    <tr>\n",
       "      <th></th>\n",
       "      <th colspan=\"3\" halign=\"left\">days_since_previous_order</th>\n",
       "    </tr>\n",
       "    <tr>\n",
       "      <th></th>\n",
       "      <th>mean</th>\n",
       "      <th>min</th>\n",
       "      <th>max</th>\n",
       "    </tr>\n",
       "    <tr>\n",
       "      <th>income_flag</th>\n",
       "      <th></th>\n",
       "      <th></th>\n",
       "      <th></th>\n",
       "    </tr>\n",
       "  </thead>\n",
       "  <tbody>\n",
       "    <tr>\n",
       "      <th>Low income</th>\n",
       "      <td>11.148438</td>\n",
       "      <td>0.0</td>\n",
       "      <td>30.0</td>\n",
       "    </tr>\n",
       "    <tr>\n",
       "      <th>Middle income</th>\n",
       "      <td>10.773438</td>\n",
       "      <td>0.0</td>\n",
       "      <td>30.0</td>\n",
       "    </tr>\n",
       "    <tr>\n",
       "      <th>Upper income</th>\n",
       "      <td>10.664062</td>\n",
       "      <td>0.0</td>\n",
       "      <td>30.0</td>\n",
       "    </tr>\n",
       "  </tbody>\n",
       "</table>\n",
       "</div>"
      ],
      "text/plain": [
       "              days_since_previous_order           \n",
       "                                   mean  min   max\n",
       "income_flag                                       \n",
       "Low income                    11.148438  0.0  30.0\n",
       "Middle income                 10.773438  0.0  30.0\n",
       "Upper income                  10.664062  0.0  30.0"
      ]
     },
     "execution_count": 36,
     "metadata": {},
     "output_type": "execute_result"
    }
   ],
   "source": [
    "#aggregating order frequency by income flag\n",
    "df.groupby('income_flag').agg({'days_since_previous_order':['mean', 'min', 'max']})"
   ]
  },
  {
   "cell_type": "code",
   "execution_count": 37,
   "id": "8837e276",
   "metadata": {},
   "outputs": [
    {
     "data": {
      "image/png": "[encoded data removed]",
      "text/plain": [
       "<Figure size 432x288 with 1 Axes>"
      ]
     },
     "metadata": {
      "needs_background": "light"
     },
     "output_type": "display_data"
    }
   ],
   "source": [
    "#create bar chart\n",
    "income_bar = df['income_flag'].value_counts().plot.bar(ylabel = 'Count (tens of millions)')"
   ]
  },
  {
   "cell_type": "code",
   "execution_count": 38,
   "id": "a982fe49",
   "metadata": {},
   "outputs": [],
   "source": [
    "#save viz\n",
    "income_bar.figure.savefig(os.path.join(path, 'Analysis', 'Visualizations', 'bar_income_group.png'))"
   ]
  },
  {
   "cell_type": "markdown",
   "id": "886c0f08",
   "metadata": {},
   "source": [
    "### Marital Status"
   ]
  },
  {
   "cell_type": "code",
   "execution_count": 39,
   "id": "e8cb6105",
   "metadata": {},
   "outputs": [
    {
     "data": {
      "text/html": [
       "<div>\n",
       "<style scoped>\n",
       "    .dataframe tbody tr th:only-of-type {\n",
       "        vertical-align: middle;\n",
       "    }\n",
       "\n",
       "    .dataframe tbody tr th {\n",
       "        vertical-align: top;\n",
       "    }\n",
       "\n",
       "    .dataframe thead tr th {\n",
       "        text-align: left;\n",
       "    }\n",
       "\n",
       "    .dataframe thead tr:last-of-type th {\n",
       "        text-align: right;\n",
       "    }\n",
       "</style>\n",
       "<table border=\"1\" class=\"dataframe\">\n",
       "  <thead>\n",
       "    <tr>\n",
       "      <th></th>\n",
       "      <th colspan=\"3\" halign=\"left\">prices</th>\n",
       "    </tr>\n",
       "    <tr>\n",
       "      <th></th>\n",
       "      <th>mean</th>\n",
       "      <th>min</th>\n",
       "      <th>max</th>\n",
       "    </tr>\n",
       "    <tr>\n",
       "      <th>marital_status</th>\n",
       "      <th></th>\n",
       "      <th></th>\n",
       "      <th></th>\n",
       "    </tr>\n",
       "  </thead>\n",
       "  <tbody>\n",
       "    <tr>\n",
       "      <th>divorced/widowed</th>\n",
       "      <td>7.800781</td>\n",
       "      <td>1.0</td>\n",
       "      <td>25.0</td>\n",
       "    </tr>\n",
       "    <tr>\n",
       "      <th>living with parents and siblings</th>\n",
       "      <td>7.800781</td>\n",
       "      <td>1.0</td>\n",
       "      <td>25.0</td>\n",
       "    </tr>\n",
       "    <tr>\n",
       "      <th>married</th>\n",
       "      <td>7.789062</td>\n",
       "      <td>1.0</td>\n",
       "      <td>25.0</td>\n",
       "    </tr>\n",
       "    <tr>\n",
       "      <th>single</th>\n",
       "      <td>7.785156</td>\n",
       "      <td>1.0</td>\n",
       "      <td>25.0</td>\n",
       "    </tr>\n",
       "  </tbody>\n",
       "</table>\n",
       "</div>"
      ],
      "text/plain": [
       "                                    prices           \n",
       "                                      mean  min   max\n",
       "marital_status                                       \n",
       "divorced/widowed                  7.800781  1.0  25.0\n",
       "living with parents and siblings  7.800781  1.0  25.0\n",
       "married                           7.789062  1.0  25.0\n",
       "single                            7.785156  1.0  25.0"
      ]
     },
     "execution_count": 39,
     "metadata": {},
     "output_type": "execute_result"
    }
   ],
   "source": [
    "#aggregating expenditures by marital status\n",
    "df.groupby('marital_status').agg({'prices':['mean', 'min', 'max']})"
   ]
  },
  {
   "cell_type": "code",
   "execution_count": 40,
   "id": "1a84e00d",
   "metadata": {},
   "outputs": [
    {
     "data": {
      "text/html": [
       "<div>\n",
       "<style scoped>\n",
       "    .dataframe tbody tr th:only-of-type {\n",
       "        vertical-align: middle;\n",
       "    }\n",
       "\n",
       "    .dataframe tbody tr th {\n",
       "        vertical-align: top;\n",
       "    }\n",
       "\n",
       "    .dataframe thead tr th {\n",
       "        text-align: left;\n",
       "    }\n",
       "\n",
       "    .dataframe thead tr:last-of-type th {\n",
       "        text-align: right;\n",
       "    }\n",
       "</style>\n",
       "<table border=\"1\" class=\"dataframe\">\n",
       "  <thead>\n",
       "    <tr>\n",
       "      <th></th>\n",
       "      <th colspan=\"3\" halign=\"left\">days_since_previous_order</th>\n",
       "    </tr>\n",
       "    <tr>\n",
       "      <th></th>\n",
       "      <th>mean</th>\n",
       "      <th>min</th>\n",
       "      <th>max</th>\n",
       "    </tr>\n",
       "    <tr>\n",
       "      <th>marital_status</th>\n",
       "      <th></th>\n",
       "      <th></th>\n",
       "      <th></th>\n",
       "    </tr>\n",
       "  </thead>\n",
       "  <tbody>\n",
       "    <tr>\n",
       "      <th>divorced/widowed</th>\n",
       "      <td>10.750000</td>\n",
       "      <td>0.0</td>\n",
       "      <td>30.0</td>\n",
       "    </tr>\n",
       "    <tr>\n",
       "      <th>living with parents and siblings</th>\n",
       "      <td>10.750000</td>\n",
       "      <td>0.0</td>\n",
       "      <td>30.0</td>\n",
       "    </tr>\n",
       "    <tr>\n",
       "      <th>married</th>\n",
       "      <td>10.820312</td>\n",
       "      <td>0.0</td>\n",
       "      <td>30.0</td>\n",
       "    </tr>\n",
       "    <tr>\n",
       "      <th>single</th>\n",
       "      <td>10.812500</td>\n",
       "      <td>0.0</td>\n",
       "      <td>30.0</td>\n",
       "    </tr>\n",
       "  </tbody>\n",
       "</table>\n",
       "</div>"
      ],
      "text/plain": [
       "                                 days_since_previous_order           \n",
       "                                                      mean  min   max\n",
       "marital_status                                                       \n",
       "divorced/widowed                                 10.750000  0.0  30.0\n",
       "living with parents and siblings                 10.750000  0.0  30.0\n",
       "married                                          10.820312  0.0  30.0\n",
       "single                                           10.812500  0.0  30.0"
      ]
     },
     "execution_count": 40,
     "metadata": {},
     "output_type": "execute_result"
    }
   ],
   "source": [
    "#aggregating order frequency by marital status\n",
    "df.groupby('marital_status').agg({'days_since_previous_order':['mean', 'min', 'max']})"
   ]
  },
  {
   "cell_type": "code",
   "execution_count": 41,
   "id": "1f4a3ec7",
   "metadata": {
    "scrolled": true
   },
   "outputs": [
    {
     "data": {
      "text/plain": [
       "married                             21743711\n",
       "single                               5094410\n",
       "divorced/widowed                     2645271\n",
       "living with parents and siblings     1481172\n",
       "Name: marital_status, dtype: int64"
      ]
     },
     "execution_count": 41,
     "metadata": {},
     "output_type": "execute_result"
    }
   ],
   "source": [
    "df['marital_status'].value_counts()"
   ]
  },
  {
   "cell_type": "code",
   "execution_count": 43,
   "id": "1c09a5b1",
   "metadata": {},
   "outputs": [
    {
     "data": {
      "image/png": "[encoded data removed]",
      "text/plain": [
       "<Figure size 432x288 with 1 Axes>"
      ]
     },
     "metadata": {
      "needs_background": "light"
     },
     "output_type": "display_data"
    }
   ],
   "source": [
    "#create bar chart\n",
    "marital_bar = df['marital_status'].value_counts().plot.bar(ylabel = 'Count(tens of millions)')"
   ]
  },
  {
   "cell_type": "code",
   "execution_count": 44,
   "id": "f297692a",
   "metadata": {},
   "outputs": [],
   "source": [
    "#save viz\n",
    "marital_bar.figure.savefig(os.path.join(path, 'Analysis', 'Visualizations', 'bar_marital.png'))"
   ]
  },
  {
   "cell_type": "markdown",
   "id": "f6711070",
   "metadata": {},
   "source": [
    "### Dependents"
   ]
  },
  {
   "cell_type": "code",
   "execution_count": 46,
   "id": "b2ed3f46",
   "metadata": {},
   "outputs": [],
   "source": [
    "#create flag for dependents\n",
    "\n",
    "df.loc[df['number_of_dependants'] == 0, 'dependent_flag'] = 'No dependents'\n",
    "df.loc[df['number_of_dependants'] == 1, 'dependent_flag'] = 'One dependent'\n",
    "df.loc[df['number_of_dependants'] > 1, 'dependent_flag'] = 'Multiple dependents'"
   ]
  },
  {
   "cell_type": "code",
   "execution_count": 47,
   "id": "bf8301ec",
   "metadata": {},
   "outputs": [
    {
     "data": {
      "text/plain": [
       "Multiple dependents    15505777\n",
       "No dependents           7739681\n",
       "One dependent           7719106\n",
       "Name: dependent_flag, dtype: int64"
      ]
     },
     "execution_count": 47,
     "metadata": {},
     "output_type": "execute_result"
    }
   ],
   "source": [
    "df['dependent_flag'].value_counts()"
   ]
  },
  {
   "cell_type": "code",
   "execution_count": 48,
   "id": "932c4454",
   "metadata": {},
   "outputs": [
    {
     "data": {
      "text/html": [
       "<div>\n",
       "<style scoped>\n",
       "    .dataframe tbody tr th:only-of-type {\n",
       "        vertical-align: middle;\n",
       "    }\n",
       "\n",
       "    .dataframe tbody tr th {\n",
       "        vertical-align: top;\n",
       "    }\n",
       "\n",
       "    .dataframe thead tr th {\n",
       "        text-align: left;\n",
       "    }\n",
       "\n",
       "    .dataframe thead tr:last-of-type th {\n",
       "        text-align: right;\n",
       "    }\n",
       "</style>\n",
       "<table border=\"1\" class=\"dataframe\">\n",
       "  <thead>\n",
       "    <tr>\n",
       "      <th></th>\n",
       "      <th colspan=\"3\" halign=\"left\">prices</th>\n",
       "    </tr>\n",
       "    <tr>\n",
       "      <th></th>\n",
       "      <th>mean</th>\n",
       "      <th>min</th>\n",
       "      <th>max</th>\n",
       "    </tr>\n",
       "    <tr>\n",
       "      <th>dependent_flag</th>\n",
       "      <th></th>\n",
       "      <th></th>\n",
       "      <th></th>\n",
       "    </tr>\n",
       "  </thead>\n",
       "  <tbody>\n",
       "    <tr>\n",
       "      <th>Multiple dependents</th>\n",
       "      <td>7.789062</td>\n",
       "      <td>1.0</td>\n",
       "      <td>25.0</td>\n",
       "    </tr>\n",
       "    <tr>\n",
       "      <th>No dependents</th>\n",
       "      <td>7.789062</td>\n",
       "      <td>1.0</td>\n",
       "      <td>25.0</td>\n",
       "    </tr>\n",
       "    <tr>\n",
       "      <th>One dependent</th>\n",
       "      <td>7.796875</td>\n",
       "      <td>1.0</td>\n",
       "      <td>25.0</td>\n",
       "    </tr>\n",
       "  </tbody>\n",
       "</table>\n",
       "</div>"
      ],
      "text/plain": [
       "                       prices           \n",
       "                         mean  min   max\n",
       "dependent_flag                          \n",
       "Multiple dependents  7.789062  1.0  25.0\n",
       "No dependents        7.789062  1.0  25.0\n",
       "One dependent        7.796875  1.0  25.0"
      ]
     },
     "execution_count": 48,
     "metadata": {},
     "output_type": "execute_result"
    }
   ],
   "source": [
    "#aggregating expenditures by dependent flag\n",
    "df.groupby('dependent_flag').agg({'prices':['mean', 'min', 'max']})"
   ]
  },
  {
   "cell_type": "code",
   "execution_count": 49,
   "id": "45ae9a50",
   "metadata": {
    "scrolled": true
   },
   "outputs": [
    {
     "data": {
      "text/html": [
       "<div>\n",
       "<style scoped>\n",
       "    .dataframe tbody tr th:only-of-type {\n",
       "        vertical-align: middle;\n",
       "    }\n",
       "\n",
       "    .dataframe tbody tr th {\n",
       "        vertical-align: top;\n",
       "    }\n",
       "\n",
       "    .dataframe thead tr th {\n",
       "        text-align: left;\n",
       "    }\n",
       "\n",
       "    .dataframe thead tr:last-of-type th {\n",
       "        text-align: right;\n",
       "    }\n",
       "</style>\n",
       "<table border=\"1\" class=\"dataframe\">\n",
       "  <thead>\n",
       "    <tr>\n",
       "      <th></th>\n",
       "      <th colspan=\"3\" halign=\"left\">days_since_previous_order</th>\n",
       "    </tr>\n",
       "    <tr>\n",
       "      <th></th>\n",
       "      <th>mean</th>\n",
       "      <th>min</th>\n",
       "      <th>max</th>\n",
       "    </tr>\n",
       "    <tr>\n",
       "      <th>dependent_flag</th>\n",
       "      <th></th>\n",
       "      <th></th>\n",
       "      <th></th>\n",
       "    </tr>\n",
       "  </thead>\n",
       "  <tbody>\n",
       "    <tr>\n",
       "      <th>Multiple dependents</th>\n",
       "      <td>10.820312</td>\n",
       "      <td>0.0</td>\n",
       "      <td>30.0</td>\n",
       "    </tr>\n",
       "    <tr>\n",
       "      <th>No dependents</th>\n",
       "      <td>10.789062</td>\n",
       "      <td>0.0</td>\n",
       "      <td>30.0</td>\n",
       "    </tr>\n",
       "    <tr>\n",
       "      <th>One dependent</th>\n",
       "      <td>10.804688</td>\n",
       "      <td>0.0</td>\n",
       "      <td>30.0</td>\n",
       "    </tr>\n",
       "  </tbody>\n",
       "</table>\n",
       "</div>"
      ],
      "text/plain": [
       "                    days_since_previous_order           \n",
       "                                         mean  min   max\n",
       "dependent_flag                                          \n",
       "Multiple dependents                 10.820312  0.0  30.0\n",
       "No dependents                       10.789062  0.0  30.0\n",
       "One dependent                       10.804688  0.0  30.0"
      ]
     },
     "execution_count": 49,
     "metadata": {},
     "output_type": "execute_result"
    }
   ],
   "source": [
    "#aggregating order frequency by dependent flag\n",
    "df.groupby('dependent_flag').agg({'days_since_previous_order':['mean', 'min', 'max']})"
   ]
  },
  {
   "cell_type": "code",
   "execution_count": 50,
   "id": "babd76a9",
   "metadata": {},
   "outputs": [
    {
     "data": {
      "image/png": "[encoded data removed]",
      "text/plain": [
       "<Figure size 432x288 with 1 Axes>"
      ]
     },
     "metadata": {
      "needs_background": "light"
     },
     "output_type": "display_data"
    }
   ],
   "source": [
    "#create bar chart\n",
    "dependent_bar = df['dependent_flag'].value_counts().plot.bar(ylabel = 'Count(tens of millions)')"
   ]
  },
  {
   "cell_type": "code",
   "execution_count": 51,
   "id": "9f354695",
   "metadata": {},
   "outputs": [],
   "source": [
    "#save viz\n",
    "dependent_bar.figure.savefig(os.path.join(path, 'Analysis', 'Visualizations', 'bar_dependent.png'))"
   ]
  },
  {
   "cell_type": "markdown",
   "id": "38412b50",
   "metadata": {},
   "source": [
    "### Department"
   ]
  },
  {
   "cell_type": "code",
   "execution_count": 52,
   "id": "531c302f",
   "metadata": {},
   "outputs": [],
   "source": [
    "#create department profile\n",
    "\n",
    "dept_profile = []\n",
    "\n",
    "for value in df['department_id']:\n",
    "    if value == 1:\n",
    "        dept_profile.append('Frozen')\n",
    "    elif value == 2:\n",
    "        dept_profile.append('Other')\n",
    "    elif value == 3:\n",
    "        dept_profile.append('Bakery')\n",
    "    elif value == 4:\n",
    "        dept_profile.append('Produce')\n",
    "    elif value == 5:\n",
    "        dept_profile.append('Alcohol')\n",
    "    elif value == 6:\n",
    "        dept_profile.append('International')\n",
    "    elif value == 7:\n",
    "        dept_profile.append('Beverages')\n",
    "    elif value == 8:\n",
    "        dept_profile.append('Pets')\n",
    "    elif value == 9:\n",
    "        dept_profile.append('Dry goods pasta')\n",
    "    elif value == 10:\n",
    "        dept_profile.append('Bulk')\n",
    "    elif value == 11:\n",
    "        dept_profile.append('Personal care')\n",
    "    elif value == 12:\n",
    "        dept_profile.append('Meat seafood')\n",
    "    elif value == 13:\n",
    "        dept_profile.append('Pantry')\n",
    "    elif value == 14:\n",
    "        dept_profile.append('Breakfast')\n",
    "    elif value == 15:\n",
    "        dept_profile.append('Canned goods')\n",
    "    elif value == 16:\n",
    "        dept_profile.append('Dairy eggs')\n",
    "    elif value == 17:\n",
    "        dept_profile.append('Household')\n",
    "    elif value == 18:\n",
    "        dept_profile.append('Babies')\n",
    "    elif value == 19:\n",
    "        dept_profile.append('Snacks')\n",
    "    elif value == 20:\n",
    "        dept_profile.append('Deli')\n",
    "    elif value == 21:\n",
    "        dept_profile.append('Missing')"
   ]
  },
  {
   "cell_type": "code",
   "execution_count": 54,
   "id": "2ba6b56a",
   "metadata": {},
   "outputs": [
    {
     "name": "stderr",
     "output_type": "stream",
     "text": [
      "C:\\Users\\legra\\AppData\\Local\\Temp\\ipykernel_9252\\431269346.py:2: SettingWithCopyWarning: \n",
      "A value is trying to be set on a copy of a slice from a DataFrame.\n",
      "Try using .loc[row_indexer,col_indexer] = value instead\n",
      "\n",
      "See the caveats in the documentation: https://pandas.pydata.org/pandas-docs/stable/user_guide/indexing.html#returning-a-view-versus-a-copy\n",
      "  df['dept_name'] = dept_profile\n"
     ]
    }
   ],
   "source": [
    "#create new column\n",
    "df['dept_name'] = dept_profile"
   ]
  },
  {
   "cell_type": "code",
   "execution_count": 55,
   "id": "32e955a7",
   "metadata": {},
   "outputs": [
    {
     "data": {
      "text/html": [
       "<div>\n",
       "<style scoped>\n",
       "    .dataframe tbody tr th:only-of-type {\n",
       "        vertical-align: middle;\n",
       "    }\n",
       "\n",
       "    .dataframe tbody tr th {\n",
       "        vertical-align: top;\n",
       "    }\n",
       "\n",
       "    .dataframe thead th {\n",
       "        text-align: right;\n",
       "    }\n",
       "</style>\n",
       "<table border=\"1\" class=\"dataframe\">\n",
       "  <thead>\n",
       "    <tr style=\"text-align: right;\">\n",
       "      <th></th>\n",
       "      <th>order_id</th>\n",
       "      <th>user_id</th>\n",
       "      <th>order_number</th>\n",
       "      <th>orders_day_of_week</th>\n",
       "      <th>order_hour_of_day</th>\n",
       "      <th>days_since_previous_order</th>\n",
       "      <th>new_customer</th>\n",
       "      <th>product_id</th>\n",
       "      <th>add_to_cart_order</th>\n",
       "      <th>reordered</th>\n",
       "      <th>...</th>\n",
       "      <th>date_joined</th>\n",
       "      <th>number_of_dependants</th>\n",
       "      <th>marital_status</th>\n",
       "      <th>income</th>\n",
       "      <th>region</th>\n",
       "      <th>activity_flag</th>\n",
       "      <th>age_group</th>\n",
       "      <th>income_flag</th>\n",
       "      <th>dependent_flag</th>\n",
       "      <th>dept_name</th>\n",
       "    </tr>\n",
       "  </thead>\n",
       "  <tbody>\n",
       "    <tr>\n",
       "      <th>0</th>\n",
       "      <td>2539329</td>\n",
       "      <td>1</td>\n",
       "      <td>1</td>\n",
       "      <td>2</td>\n",
       "      <td>8</td>\n",
       "      <td>NaN</td>\n",
       "      <td>True</td>\n",
       "      <td>196</td>\n",
       "      <td>1</td>\n",
       "      <td>0</td>\n",
       "      <td>...</td>\n",
       "      <td>2/17/2019</td>\n",
       "      <td>3</td>\n",
       "      <td>married</td>\n",
       "      <td>40423</td>\n",
       "      <td>South</td>\n",
       "      <td>Normal activity customer</td>\n",
       "      <td>Adult</td>\n",
       "      <td>Low income</td>\n",
       "      <td>Multiple dependents</td>\n",
       "      <td>Beverages</td>\n",
       "    </tr>\n",
       "    <tr>\n",
       "      <th>1</th>\n",
       "      <td>2398795</td>\n",
       "      <td>1</td>\n",
       "      <td>2</td>\n",
       "      <td>3</td>\n",
       "      <td>7</td>\n",
       "      <td>15.0</td>\n",
       "      <td>False</td>\n",
       "      <td>196</td>\n",
       "      <td>1</td>\n",
       "      <td>1</td>\n",
       "      <td>...</td>\n",
       "      <td>2/17/2019</td>\n",
       "      <td>3</td>\n",
       "      <td>married</td>\n",
       "      <td>40423</td>\n",
       "      <td>South</td>\n",
       "      <td>Normal activity customer</td>\n",
       "      <td>Adult</td>\n",
       "      <td>Low income</td>\n",
       "      <td>Multiple dependents</td>\n",
       "      <td>Beverages</td>\n",
       "    </tr>\n",
       "    <tr>\n",
       "      <th>2</th>\n",
       "      <td>473747</td>\n",
       "      <td>1</td>\n",
       "      <td>3</td>\n",
       "      <td>3</td>\n",
       "      <td>12</td>\n",
       "      <td>21.0</td>\n",
       "      <td>False</td>\n",
       "      <td>196</td>\n",
       "      <td>1</td>\n",
       "      <td>1</td>\n",
       "      <td>...</td>\n",
       "      <td>2/17/2019</td>\n",
       "      <td>3</td>\n",
       "      <td>married</td>\n",
       "      <td>40423</td>\n",
       "      <td>South</td>\n",
       "      <td>Normal activity customer</td>\n",
       "      <td>Adult</td>\n",
       "      <td>Low income</td>\n",
       "      <td>Multiple dependents</td>\n",
       "      <td>Beverages</td>\n",
       "    </tr>\n",
       "    <tr>\n",
       "      <th>3</th>\n",
       "      <td>2254736</td>\n",
       "      <td>1</td>\n",
       "      <td>4</td>\n",
       "      <td>4</td>\n",
       "      <td>7</td>\n",
       "      <td>29.0</td>\n",
       "      <td>False</td>\n",
       "      <td>196</td>\n",
       "      <td>1</td>\n",
       "      <td>1</td>\n",
       "      <td>...</td>\n",
       "      <td>2/17/2019</td>\n",
       "      <td>3</td>\n",
       "      <td>married</td>\n",
       "      <td>40423</td>\n",
       "      <td>South</td>\n",
       "      <td>Normal activity customer</td>\n",
       "      <td>Adult</td>\n",
       "      <td>Low income</td>\n",
       "      <td>Multiple dependents</td>\n",
       "      <td>Beverages</td>\n",
       "    </tr>\n",
       "    <tr>\n",
       "      <th>4</th>\n",
       "      <td>431534</td>\n",
       "      <td>1</td>\n",
       "      <td>5</td>\n",
       "      <td>4</td>\n",
       "      <td>15</td>\n",
       "      <td>28.0</td>\n",
       "      <td>False</td>\n",
       "      <td>196</td>\n",
       "      <td>1</td>\n",
       "      <td>1</td>\n",
       "      <td>...</td>\n",
       "      <td>2/17/2019</td>\n",
       "      <td>3</td>\n",
       "      <td>married</td>\n",
       "      <td>40423</td>\n",
       "      <td>South</td>\n",
       "      <td>Normal activity customer</td>\n",
       "      <td>Adult</td>\n",
       "      <td>Low income</td>\n",
       "      <td>Multiple dependents</td>\n",
       "      <td>Beverages</td>\n",
       "    </tr>\n",
       "  </tbody>\n",
       "</table>\n",
       "<p>5 rows × 37 columns</p>\n",
       "</div>"
      ],
      "text/plain": [
       "   order_id user_id  order_number  orders_day_of_week  order_hour_of_day  \\\n",
       "0   2539329       1             1                   2                  8   \n",
       "1   2398795       1             2                   3                  7   \n",
       "2    473747       1             3                   3                 12   \n",
       "3   2254736       1             4                   4                  7   \n",
       "4    431534       1             5                   4                 15   \n",
       "\n",
       "   days_since_previous_order  new_customer  product_id  add_to_cart_order  \\\n",
       "0                        NaN          True         196                  1   \n",
       "1                       15.0         False         196                  1   \n",
       "2                       21.0         False         196                  1   \n",
       "3                       29.0         False         196                  1   \n",
       "4                       28.0         False         196                  1   \n",
       "\n",
       "   reordered  ... date_joined number_of_dependants  marital_status  income  \\\n",
       "0          0  ...   2/17/2019                    3         married   40423   \n",
       "1          1  ...   2/17/2019                    3         married   40423   \n",
       "2          1  ...   2/17/2019                    3         married   40423   \n",
       "3          1  ...   2/17/2019                    3         married   40423   \n",
       "4          1  ...   2/17/2019                    3         married   40423   \n",
       "\n",
       "   region             activity_flag age_group income_flag  \\\n",
       "0   South  Normal activity customer     Adult  Low income   \n",
       "1   South  Normal activity customer     Adult  Low income   \n",
       "2   South  Normal activity customer     Adult  Low income   \n",
       "3   South  Normal activity customer     Adult  Low income   \n",
       "4   South  Normal activity customer     Adult  Low income   \n",
       "\n",
       "        dependent_flag  dept_name  \n",
       "0  Multiple dependents  Beverages  \n",
       "1  Multiple dependents  Beverages  \n",
       "2  Multiple dependents  Beverages  \n",
       "3  Multiple dependents  Beverages  \n",
       "4  Multiple dependents  Beverages  \n",
       "\n",
       "[5 rows x 37 columns]"
      ]
     },
     "execution_count": 55,
     "metadata": {},
     "output_type": "execute_result"
    }
   ],
   "source": [
    "#checking output\n",
    "df.head()"
   ]
  },
  {
   "cell_type": "code",
   "execution_count": 56,
   "id": "ad754c89",
   "metadata": {},
   "outputs": [
    {
     "data": {
      "text/plain": [
       "Produce            9079273\n",
       "Dairy eggs         5177182\n",
       "Snacks             2766406\n",
       "Beverages          2571901\n",
       "Frozen             2121731\n",
       "Pantry             1782705\n",
       "Bakery             1120828\n",
       "Canned goods       1012074\n",
       "Deli               1003834\n",
       "Dry goods pasta     822136\n",
       "Household           699857\n",
       "Meat seafood        674781\n",
       "Breakfast           670850\n",
       "Personal care       424306\n",
       "Babies              410392\n",
       "International       255991\n",
       "Alcohol             144627\n",
       "Pets                 93060\n",
       "Missing              64768\n",
       "Other                34411\n",
       "Bulk                 33451\n",
       "Name: dept_name, dtype: int64"
      ]
     },
     "execution_count": 56,
     "metadata": {},
     "output_type": "execute_result"
    }
   ],
   "source": [
    "#checking frequency\n",
    "df['dept_name'].value_counts()"
   ]
  },
  {
   "cell_type": "code",
   "execution_count": 57,
   "id": "ecba3c48",
   "metadata": {},
   "outputs": [
    {
     "data": {
      "text/html": [
       "<div>\n",
       "<style scoped>\n",
       "    .dataframe tbody tr th:only-of-type {\n",
       "        vertical-align: middle;\n",
       "    }\n",
       "\n",
       "    .dataframe tbody tr th {\n",
       "        vertical-align: top;\n",
       "    }\n",
       "\n",
       "    .dataframe thead tr th {\n",
       "        text-align: left;\n",
       "    }\n",
       "\n",
       "    .dataframe thead tr:last-of-type th {\n",
       "        text-align: right;\n",
       "    }\n",
       "</style>\n",
       "<table border=\"1\" class=\"dataframe\">\n",
       "  <thead>\n",
       "    <tr>\n",
       "      <th></th>\n",
       "      <th colspan=\"3\" halign=\"left\">prices</th>\n",
       "    </tr>\n",
       "    <tr>\n",
       "      <th></th>\n",
       "      <th>mean</th>\n",
       "      <th>min</th>\n",
       "      <th>max</th>\n",
       "    </tr>\n",
       "    <tr>\n",
       "      <th>dept_name</th>\n",
       "      <th></th>\n",
       "      <th></th>\n",
       "      <th></th>\n",
       "    </tr>\n",
       "  </thead>\n",
       "  <tbody>\n",
       "    <tr>\n",
       "      <th>Alcohol</th>\n",
       "      <td>8.148438</td>\n",
       "      <td>1.000000</td>\n",
       "      <td>15.000000</td>\n",
       "    </tr>\n",
       "    <tr>\n",
       "      <th>Babies</th>\n",
       "      <td>7.632812</td>\n",
       "      <td>1.000000</td>\n",
       "      <td>15.000000</td>\n",
       "    </tr>\n",
       "    <tr>\n",
       "      <th>Bakery</th>\n",
       "      <td>7.855469</td>\n",
       "      <td>1.000000</td>\n",
       "      <td>15.000000</td>\n",
       "    </tr>\n",
       "    <tr>\n",
       "      <th>Beverages</th>\n",
       "      <td>7.683594</td>\n",
       "      <td>1.000000</td>\n",
       "      <td>15.000000</td>\n",
       "    </tr>\n",
       "    <tr>\n",
       "      <th>Breakfast</th>\n",
       "      <td>8.031250</td>\n",
       "      <td>1.000000</td>\n",
       "      <td>14.898438</td>\n",
       "    </tr>\n",
       "    <tr>\n",
       "      <th>Bulk</th>\n",
       "      <td>8.343750</td>\n",
       "      <td>1.400391</td>\n",
       "      <td>14.101562</td>\n",
       "    </tr>\n",
       "    <tr>\n",
       "      <th>Canned goods</th>\n",
       "      <td>7.546875</td>\n",
       "      <td>1.000000</td>\n",
       "      <td>15.000000</td>\n",
       "    </tr>\n",
       "    <tr>\n",
       "      <th>Dairy eggs</th>\n",
       "      <td>8.335938</td>\n",
       "      <td>1.000000</td>\n",
       "      <td>15.000000</td>\n",
       "    </tr>\n",
       "    <tr>\n",
       "      <th>Deli</th>\n",
       "      <td>7.781250</td>\n",
       "      <td>1.000000</td>\n",
       "      <td>15.000000</td>\n",
       "    </tr>\n",
       "    <tr>\n",
       "      <th>Dry goods pasta</th>\n",
       "      <td>7.347656</td>\n",
       "      <td>1.000000</td>\n",
       "      <td>15.000000</td>\n",
       "    </tr>\n",
       "    <tr>\n",
       "      <th>Frozen</th>\n",
       "      <td>7.734375</td>\n",
       "      <td>1.000000</td>\n",
       "      <td>15.000000</td>\n",
       "    </tr>\n",
       "    <tr>\n",
       "      <th>Household</th>\n",
       "      <td>7.378906</td>\n",
       "      <td>1.000000</td>\n",
       "      <td>15.000000</td>\n",
       "    </tr>\n",
       "    <tr>\n",
       "      <th>International</th>\n",
       "      <td>7.679688</td>\n",
       "      <td>1.000000</td>\n",
       "      <td>15.000000</td>\n",
       "    </tr>\n",
       "    <tr>\n",
       "      <th>Meat seafood</th>\n",
       "      <td>16.296875</td>\n",
       "      <td>8.000000</td>\n",
       "      <td>25.000000</td>\n",
       "    </tr>\n",
       "    <tr>\n",
       "      <th>Missing</th>\n",
       "      <td>8.664062</td>\n",
       "      <td>1.000000</td>\n",
       "      <td>15.000000</td>\n",
       "    </tr>\n",
       "    <tr>\n",
       "      <th>Other</th>\n",
       "      <td>6.960938</td>\n",
       "      <td>1.099609</td>\n",
       "      <td>15.000000</td>\n",
       "    </tr>\n",
       "    <tr>\n",
       "      <th>Pantry</th>\n",
       "      <td>8.015625</td>\n",
       "      <td>1.000000</td>\n",
       "      <td>20.000000</td>\n",
       "    </tr>\n",
       "    <tr>\n",
       "      <th>Personal care</th>\n",
       "      <td>8.000000</td>\n",
       "      <td>1.000000</td>\n",
       "      <td>15.000000</td>\n",
       "    </tr>\n",
       "    <tr>\n",
       "      <th>Pets</th>\n",
       "      <td>7.886719</td>\n",
       "      <td>1.000000</td>\n",
       "      <td>15.000000</td>\n",
       "    </tr>\n",
       "    <tr>\n",
       "      <th>Produce</th>\n",
       "      <td>7.980469</td>\n",
       "      <td>1.000000</td>\n",
       "      <td>15.000000</td>\n",
       "    </tr>\n",
       "    <tr>\n",
       "      <th>Snacks</th>\n",
       "      <td>4.277344</td>\n",
       "      <td>1.599609</td>\n",
       "      <td>7.000000</td>\n",
       "    </tr>\n",
       "  </tbody>\n",
       "</table>\n",
       "</div>"
      ],
      "text/plain": [
       "                    prices                     \n",
       "                      mean       min        max\n",
       "dept_name                                      \n",
       "Alcohol           8.148438  1.000000  15.000000\n",
       "Babies            7.632812  1.000000  15.000000\n",
       "Bakery            7.855469  1.000000  15.000000\n",
       "Beverages         7.683594  1.000000  15.000000\n",
       "Breakfast         8.031250  1.000000  14.898438\n",
       "Bulk              8.343750  1.400391  14.101562\n",
       "Canned goods      7.546875  1.000000  15.000000\n",
       "Dairy eggs        8.335938  1.000000  15.000000\n",
       "Deli              7.781250  1.000000  15.000000\n",
       "Dry goods pasta   7.347656  1.000000  15.000000\n",
       "Frozen            7.734375  1.000000  15.000000\n",
       "Household         7.378906  1.000000  15.000000\n",
       "International     7.679688  1.000000  15.000000\n",
       "Meat seafood     16.296875  8.000000  25.000000\n",
       "Missing           8.664062  1.000000  15.000000\n",
       "Other             6.960938  1.099609  15.000000\n",
       "Pantry            8.015625  1.000000  20.000000\n",
       "Personal care     8.000000  1.000000  15.000000\n",
       "Pets              7.886719  1.000000  15.000000\n",
       "Produce           7.980469  1.000000  15.000000\n",
       "Snacks            4.277344  1.599609   7.000000"
      ]
     },
     "execution_count": 57,
     "metadata": {},
     "output_type": "execute_result"
    }
   ],
   "source": [
    "#aggregating expenditures by dept_name\n",
    "df.groupby('dept_name').agg({'prices':['mean', 'min', 'max']})"
   ]
  },
  {
   "cell_type": "code",
   "execution_count": 58,
   "id": "63c9dc67",
   "metadata": {},
   "outputs": [
    {
     "data": {
      "text/html": [
       "<div>\n",
       "<style scoped>\n",
       "    .dataframe tbody tr th:only-of-type {\n",
       "        vertical-align: middle;\n",
       "    }\n",
       "\n",
       "    .dataframe tbody tr th {\n",
       "        vertical-align: top;\n",
       "    }\n",
       "\n",
       "    .dataframe thead tr th {\n",
       "        text-align: left;\n",
       "    }\n",
       "\n",
       "    .dataframe thead tr:last-of-type th {\n",
       "        text-align: right;\n",
       "    }\n",
       "</style>\n",
       "<table border=\"1\" class=\"dataframe\">\n",
       "  <thead>\n",
       "    <tr>\n",
       "      <th></th>\n",
       "      <th colspan=\"3\" halign=\"left\">days_since_previous_order</th>\n",
       "    </tr>\n",
       "    <tr>\n",
       "      <th></th>\n",
       "      <th>mean</th>\n",
       "      <th>min</th>\n",
       "      <th>max</th>\n",
       "    </tr>\n",
       "    <tr>\n",
       "      <th>dept_name</th>\n",
       "      <th></th>\n",
       "      <th></th>\n",
       "      <th></th>\n",
       "    </tr>\n",
       "  </thead>\n",
       "  <tbody>\n",
       "    <tr>\n",
       "      <th>Alcohol</th>\n",
       "      <td>10.007812</td>\n",
       "      <td>0.0</td>\n",
       "      <td>30.0</td>\n",
       "    </tr>\n",
       "    <tr>\n",
       "      <th>Babies</th>\n",
       "      <td>9.781250</td>\n",
       "      <td>0.0</td>\n",
       "      <td>30.0</td>\n",
       "    </tr>\n",
       "    <tr>\n",
       "      <th>Bakery</th>\n",
       "      <td>10.804688</td>\n",
       "      <td>0.0</td>\n",
       "      <td>30.0</td>\n",
       "    </tr>\n",
       "    <tr>\n",
       "      <th>Beverages</th>\n",
       "      <td>10.765625</td>\n",
       "      <td>0.0</td>\n",
       "      <td>30.0</td>\n",
       "    </tr>\n",
       "    <tr>\n",
       "      <th>Breakfast</th>\n",
       "      <td>11.000000</td>\n",
       "      <td>0.0</td>\n",
       "      <td>30.0</td>\n",
       "    </tr>\n",
       "    <tr>\n",
       "      <th>Bulk</th>\n",
       "      <td>9.882812</td>\n",
       "      <td>0.0</td>\n",
       "      <td>30.0</td>\n",
       "    </tr>\n",
       "    <tr>\n",
       "      <th>Canned goods</th>\n",
       "      <td>11.320312</td>\n",
       "      <td>0.0</td>\n",
       "      <td>30.0</td>\n",
       "    </tr>\n",
       "    <tr>\n",
       "      <th>Dairy eggs</th>\n",
       "      <td>10.710938</td>\n",
       "      <td>0.0</td>\n",
       "      <td>30.0</td>\n",
       "    </tr>\n",
       "    <tr>\n",
       "      <th>Deli</th>\n",
       "      <td>11.054688</td>\n",
       "      <td>0.0</td>\n",
       "      <td>30.0</td>\n",
       "    </tr>\n",
       "    <tr>\n",
       "      <th>Dry goods pasta</th>\n",
       "      <td>11.437500</td>\n",
       "      <td>0.0</td>\n",
       "      <td>30.0</td>\n",
       "    </tr>\n",
       "    <tr>\n",
       "      <th>Frozen</th>\n",
       "      <td>11.414062</td>\n",
       "      <td>0.0</td>\n",
       "      <td>30.0</td>\n",
       "    </tr>\n",
       "    <tr>\n",
       "      <th>Household</th>\n",
       "      <td>11.648438</td>\n",
       "      <td>0.0</td>\n",
       "      <td>30.0</td>\n",
       "    </tr>\n",
       "    <tr>\n",
       "      <th>International</th>\n",
       "      <td>10.960938</td>\n",
       "      <td>0.0</td>\n",
       "      <td>30.0</td>\n",
       "    </tr>\n",
       "    <tr>\n",
       "      <th>Meat seafood</th>\n",
       "      <td>11.125000</td>\n",
       "      <td>0.0</td>\n",
       "      <td>30.0</td>\n",
       "    </tr>\n",
       "    <tr>\n",
       "      <th>Missing</th>\n",
       "      <td>9.867188</td>\n",
       "      <td>0.0</td>\n",
       "      <td>30.0</td>\n",
       "    </tr>\n",
       "    <tr>\n",
       "      <th>Other</th>\n",
       "      <td>10.625000</td>\n",
       "      <td>0.0</td>\n",
       "      <td>30.0</td>\n",
       "    </tr>\n",
       "    <tr>\n",
       "      <th>Pantry</th>\n",
       "      <td>10.835938</td>\n",
       "      <td>0.0</td>\n",
       "      <td>30.0</td>\n",
       "    </tr>\n",
       "    <tr>\n",
       "      <th>Personal care</th>\n",
       "      <td>11.257812</td>\n",
       "      <td>0.0</td>\n",
       "      <td>30.0</td>\n",
       "    </tr>\n",
       "    <tr>\n",
       "      <th>Pets</th>\n",
       "      <td>11.593750</td>\n",
       "      <td>0.0</td>\n",
       "      <td>30.0</td>\n",
       "    </tr>\n",
       "    <tr>\n",
       "      <th>Produce</th>\n",
       "      <td>10.570312</td>\n",
       "      <td>0.0</td>\n",
       "      <td>30.0</td>\n",
       "    </tr>\n",
       "    <tr>\n",
       "      <th>Snacks</th>\n",
       "      <td>10.671875</td>\n",
       "      <td>0.0</td>\n",
       "      <td>30.0</td>\n",
       "    </tr>\n",
       "  </tbody>\n",
       "</table>\n",
       "</div>"
      ],
      "text/plain": [
       "                days_since_previous_order           \n",
       "                                     mean  min   max\n",
       "dept_name                                           \n",
       "Alcohol                         10.007812  0.0  30.0\n",
       "Babies                           9.781250  0.0  30.0\n",
       "Bakery                          10.804688  0.0  30.0\n",
       "Beverages                       10.765625  0.0  30.0\n",
       "Breakfast                       11.000000  0.0  30.0\n",
       "Bulk                             9.882812  0.0  30.0\n",
       "Canned goods                    11.320312  0.0  30.0\n",
       "Dairy eggs                      10.710938  0.0  30.0\n",
       "Deli                            11.054688  0.0  30.0\n",
       "Dry goods pasta                 11.437500  0.0  30.0\n",
       "Frozen                          11.414062  0.0  30.0\n",
       "Household                       11.648438  0.0  30.0\n",
       "International                   10.960938  0.0  30.0\n",
       "Meat seafood                    11.125000  0.0  30.0\n",
       "Missing                          9.867188  0.0  30.0\n",
       "Other                           10.625000  0.0  30.0\n",
       "Pantry                          10.835938  0.0  30.0\n",
       "Personal care                   11.257812  0.0  30.0\n",
       "Pets                            11.593750  0.0  30.0\n",
       "Produce                         10.570312  0.0  30.0\n",
       "Snacks                          10.671875  0.0  30.0"
      ]
     },
     "execution_count": 58,
     "metadata": {},
     "output_type": "execute_result"
    }
   ],
   "source": [
    "#aggregating order frequency by dept_name\n",
    "df.groupby('dept_name').agg({'days_since_previous_order':['mean', 'min', 'max']})"
   ]
  },
  {
   "cell_type": "code",
   "execution_count": 59,
   "id": "79727627",
   "metadata": {},
   "outputs": [
    {
     "data": {
      "image/png": "[encoded data removed]",
      "text/plain": [
       "<Figure size 432x288 with 1 Axes>"
      ]
     },
     "metadata": {
      "needs_background": "light"
     },
     "output_type": "display_data"
    }
   ],
   "source": [
    "#bar chart for dept frequency\n",
    "dept_bar=df['dept_name'].value_counts().sort_values().plot.barh(color = 'green')"
   ]
  },
  {
   "cell_type": "code",
   "execution_count": 60,
   "id": "6873a63c",
   "metadata": {},
   "outputs": [],
   "source": [
    "#saving viz\n",
    "dept_bar.figure.savefig(os.path.join(path, 'Analysis', 'Visualizations', 'dept_bar.png'))"
   ]
  },
  {
   "cell_type": "markdown",
   "id": "24c685c2",
   "metadata": {},
   "source": [
    "## 07. Additonal Visualizations"
   ]
  },
  {
   "cell_type": "markdown",
   "id": "8232bd86",
   "metadata": {},
   "source": [
    "### 07.1 Price Range Distribution"
   ]
  },
  {
   "cell_type": "code",
   "execution_count": 61,
   "id": "e1dd9a48",
   "metadata": {},
   "outputs": [
    {
     "data": {
      "text/plain": [
       "Mid-range product     20891771\n",
       "Low-range product      9674840\n",
       "High-range product      397953\n",
       "Name: price_range_loc, dtype: int64"
      ]
     },
     "execution_count": 61,
     "metadata": {},
     "output_type": "execute_result"
    }
   ],
   "source": [
    "#price range value counts\n",
    "df['price_range_loc'].value_counts()"
   ]
  },
  {
   "cell_type": "code",
   "execution_count": 62,
   "id": "5202151e",
   "metadata": {},
   "outputs": [
    {
     "data": {
      "image/png": "[encoded data removed]",
      "text/plain": [
       "<Figure size 432x288 with 1 Axes>"
      ]
     },
     "metadata": {},
     "output_type": "display_data"
    }
   ],
   "source": [
    "#creating pie chart\n",
    "price_range_pie = df['price_range_loc'].value_counts().plot.pie(autopct = '%1.1f%%')"
   ]
  },
  {
   "cell_type": "code",
   "execution_count": 63,
   "id": "e5ebeb55",
   "metadata": {},
   "outputs": [],
   "source": [
    "#saving viz\n",
    "price_range_pie.figure.savefig(os.path.join(path, 'Analysis', 'Visualizations', 'price_range_pie.png'))"
   ]
  },
  {
   "cell_type": "markdown",
   "id": "ec9f87b6",
   "metadata": {},
   "source": [
    "### 07.2 Brand Loyalty Chart"
   ]
  },
  {
   "cell_type": "code",
   "execution_count": 99,
   "id": "6826030e",
   "metadata": {},
   "outputs": [
    {
     "data": {
      "image/png": "[encoded data removed]",
      "text/plain": [
       "<Figure size 432x288 with 1 Axes>"
      ]
     },
     "metadata": {},
     "output_type": "display_data"
    }
   ],
   "source": [
    "#creating bar chart\n",
    "brand_loyalty_pie = df['loyalty_flag'].value_counts().plot.pie(autopct = '%1.1f%%')"
   ]
  },
  {
   "cell_type": "code",
   "execution_count": 100,
   "id": "05af5330",
   "metadata": {},
   "outputs": [],
   "source": [
    "#saving viz\n",
    "brand_loyalty_pie.figure.savefig(os.path.join(path, 'Analysis', 'Visualizations', 'brand_loyalty_pie.png'))"
   ]
  },
  {
   "cell_type": "markdown",
   "id": "1495e0ec",
   "metadata": {},
   "source": [
    "### 07.3 Ordering Habits based on loyalty status"
   ]
  },
  {
   "cell_type": "code",
   "execution_count": 66,
   "id": "0d929042",
   "metadata": {},
   "outputs": [],
   "source": [
    "#create crosstab for products by loyalty flag\n",
    "crosstab3 = pd.crosstab(df['dept_name'], df['loyalty_flag'], dropna = False)"
   ]
  },
  {
   "cell_type": "code",
   "execution_count": 68,
   "id": "7c96b1f9",
   "metadata": {
    "scrolled": true
   },
   "outputs": [
    {
     "data": {
      "image/png": "[encoded data removed]",
      "text/plain": [
       "<Figure size 432x288 with 1 Axes>"
      ]
     },
     "metadata": {
      "needs_background": "light"
     },
     "output_type": "display_data"
    }
   ],
   "source": [
    "crosstab3_bar = crosstab3.plot(kind = 'bar', stacked = True)"
   ]
  },
  {
   "cell_type": "code",
   "execution_count": 70,
   "id": "d08fc9b8",
   "metadata": {},
   "outputs": [],
   "source": [
    "#create crosstab for spender flag by loyalty flag\n",
    "crosstab4 = pd.crosstab(df['spender_flag'], df['loyalty_flag'], dropna = False)"
   ]
  },
  {
   "cell_type": "code",
   "execution_count": 71,
   "id": "f4ac714c",
   "metadata": {},
   "outputs": [
    {
     "data": {
      "image/png": "[encoded data removed]",
      "text/plain": [
       "<Figure size 432x288 with 1 Axes>"
      ]
     },
     "metadata": {
      "needs_background": "light"
     },
     "output_type": "display_data"
    }
   ],
   "source": [
    "#create stacked bar\n",
    "crosstab4_bar = crosstab4.plot(kind = 'bar', stacked = True, ylabel = 'Count (tens of millions)')"
   ]
  },
  {
   "cell_type": "code",
   "execution_count": 73,
   "id": "acb07ba5",
   "metadata": {},
   "outputs": [],
   "source": [
    "crosstab4.to_clipboard()"
   ]
  },
  {
   "cell_type": "code",
   "execution_count": 77,
   "id": "037d3315",
   "metadata": {},
   "outputs": [],
   "source": [
    "#create crosstab for price_range_loc by loyalty flag\n",
    "crosstab6 = pd.crosstab(df['price_range_loc'], df['loyalty_flag'], dropna = False)"
   ]
  },
  {
   "cell_type": "code",
   "execution_count": 79,
   "id": "de0ea6cb",
   "metadata": {},
   "outputs": [
    {
     "data": {
      "image/png": "[encoded data removed]",
      "text/plain": [
       "<Figure size 432x288 with 1 Axes>"
      ]
     },
     "metadata": {
      "needs_background": "light"
     },
     "output_type": "display_data"
    }
   ],
   "source": [
    "#create bar chart\n",
    "crosstab6_bar = crosstab6.plot(kind = 'bar', stacked = True, ylabel = 'Count (tens of millions)')"
   ]
  },
  {
   "cell_type": "code",
   "execution_count": 81,
   "id": "cf624f0d",
   "metadata": {},
   "outputs": [],
   "source": [
    "crosstab6.to_clipboard()"
   ]
  },
  {
   "cell_type": "code",
   "execution_count": 92,
   "id": "acbf8df8",
   "metadata": {},
   "outputs": [
    {
     "data": {
      "image/png": "[encoded data removed]",
      "text/plain": [
       "<Figure size 432x288 with 1 Axes>"
      ]
     },
     "metadata": {},
     "output_type": "display_data"
    }
   ],
   "source": [
    "#pie chart orders by loyalty flag\n",
    "data = df['loyalty_flag'].value_counts().sort_index()\n",
    "loyalty_orders_pie = data.plot.pie(autopct=('%1.0f%%'), ylabel = ' ', title='Orders by customer loyalty')"
   ]
  },
  {
   "cell_type": "code",
   "execution_count": 94,
   "id": "cdfb8b68",
   "metadata": {},
   "outputs": [],
   "source": [
    "#saving viz\n",
    "crosstab3_bar.figure.savefig(os.path.join(path, 'Analysis', 'Visualizations', 'habits_loyalty_bar.png'))\n",
    "crosstab4_bar.figure.savefig(os.path.join(path, 'Analysis', 'Visualizations', 'spender_loyalty_bar.png'))\n",
    "crosstab6_bar.figure.savefig(os.path.join(path, 'Analysis', 'Visualizations', 'price_loyalty_bar.png'))\n",
    "loyalty_orders_pie.figure.savefig(os.path.join(path, 'Analysis', 'Visualizations', 'loyalty_orders_pie.png'))"
   ]
  },
  {
   "cell_type": "markdown",
   "id": "63aeddb4",
   "metadata": {},
   "source": [
    "### 07.4 Ordering Habits of Age Groups"
   ]
  },
  {
   "cell_type": "code",
   "execution_count": 74,
   "id": "d1e1e362",
   "metadata": {},
   "outputs": [],
   "source": [
    "#create crosstab for products by age group\n",
    "crosstab5 = pd.crosstab(df['dept_name'], df['age_group'], dropna = False)"
   ]
  },
  {
   "cell_type": "code",
   "execution_count": 75,
   "id": "ad00b3f7",
   "metadata": {},
   "outputs": [
    {
     "data": {
      "image/png": "[encoded data removed]",
      "text/plain": [
       "<Figure size 432x288 with 1 Axes>"
      ]
     },
     "metadata": {
      "needs_background": "light"
     },
     "output_type": "display_data"
    }
   ],
   "source": [
    "crosstab5_bar = crosstab5.plot(kind = 'bar', stacked = True)"
   ]
  },
  {
   "cell_type": "code",
   "execution_count": 96,
   "id": "1c170a4a",
   "metadata": {},
   "outputs": [],
   "source": [
    "#create crosstab for order frequency by age_group\n",
    "crosstab7 = pd.crosstab(df['age_group'], df['frequency_flag'], dropna = False)"
   ]
  },
  {
   "cell_type": "code",
   "execution_count": 98,
   "id": "d1e8ed86",
   "metadata": {},
   "outputs": [
    {
     "data": {
      "image/png": "[encoded data removed]",
      "text/plain": [
       "<Figure size 432x288 with 1 Axes>"
      ]
     },
     "metadata": {
      "needs_background": "light"
     },
     "output_type": "display_data"
    }
   ],
   "source": [
    "crosstab7_bar = crosstab7.plot(kind = 'bar', stacked = False)"
   ]
  },
  {
   "cell_type": "code",
   "execution_count": 103,
   "id": "28bc56a1",
   "metadata": {},
   "outputs": [],
   "source": [
    "#create crosstab for spending by age group\n",
    "crosstab8 = pd.crosstab(df['age_group'], df['spender_flag'], dropna = False)"
   ]
  },
  {
   "cell_type": "code",
   "execution_count": 104,
   "id": "a2e91029",
   "metadata": {},
   "outputs": [
    {
     "data": {
      "image/png": "[encoded data removed]",
      "text/plain": [
       "<Figure size 432x288 with 1 Axes>"
      ]
     },
     "metadata": {
      "needs_background": "light"
     },
     "output_type": "display_data"
    }
   ],
   "source": [
    "crosstab8_bar = crosstab8.plot(kind = 'bar', stacked = False)"
   ]
  },
  {
   "cell_type": "code",
   "execution_count": 106,
   "id": "fdbcf831",
   "metadata": {},
   "outputs": [],
   "source": [
    "#save viz\n",
    "crosstab5_bar.figure.savefig(os.path.join(path, 'Analysis', 'Visualizations', 'age_v_dept.png'))\n",
    "crosstab7_bar.figure.savefig(os.path.join(path, 'Analysis', 'Visualizations', 'age_v_freq.png'))\n",
    "crosstab8_bar.figure.savefig(os.path.join(path, 'Analysis', 'Visualizations', 'age_v_spend.png'))"
   ]
  },
  {
   "cell_type": "markdown",
   "id": "9b667722",
   "metadata": {},
   "source": [
    "### 07.5 Ordering Habits by Dependents"
   ]
  },
  {
   "cell_type": "code",
   "execution_count": 107,
   "id": "c926c77e",
   "metadata": {},
   "outputs": [],
   "source": [
    "#create crosstab for products dependent_flag\n",
    "crosstab9 = pd.crosstab(df['dept_name'], df['dependent_flag'], dropna = False)"
   ]
  },
  {
   "cell_type": "code",
   "execution_count": 108,
   "id": "06a730c7",
   "metadata": {},
   "outputs": [
    {
     "data": {
      "image/png": "[encoded data removed]",
      "text/plain": [
       "<Figure size 432x288 with 1 Axes>"
      ]
     },
     "metadata": {
      "needs_background": "light"
     },
     "output_type": "display_data"
    }
   ],
   "source": [
    "crosstab9_bar = crosstab9.plot(kind= 'bar', stacked = True)"
   ]
  },
  {
   "cell_type": "code",
   "execution_count": 109,
   "id": "85f1ecb7",
   "metadata": {},
   "outputs": [],
   "source": [
    "#create crosstab for order frequency by dependent_flag\n",
    "crosstab10 = pd.crosstab(df['dependent_flag'], df['frequency_flag'], dropna = False)"
   ]
  },
  {
   "cell_type": "code",
   "execution_count": 110,
   "id": "6e303480",
   "metadata": {},
   "outputs": [
    {
     "data": {
      "image/png": "[encoded data removed]",
      "text/plain": [
       "<Figure size 432x288 with 1 Axes>"
      ]
     },
     "metadata": {
      "needs_background": "light"
     },
     "output_type": "display_data"
    }
   ],
   "source": [
    "crosstab10_bar = crosstab10.plot(kind = 'bar', stacked = False)"
   ]
  },
  {
   "cell_type": "code",
   "execution_count": 111,
   "id": "cdaf5231",
   "metadata": {},
   "outputs": [],
   "source": [
    "#create crosstab for spending by dependent_flag\n",
    "crosstab11 = pd.crosstab(df['dependent_flag'], df['spender_flag'], dropna = False)"
   ]
  },
  {
   "cell_type": "code",
   "execution_count": 112,
   "id": "1e664e33",
   "metadata": {},
   "outputs": [
    {
     "data": {
      "image/png": "[encoded data removed]",
      "text/plain": [
       "<Figure size 432x288 with 1 Axes>"
      ]
     },
     "metadata": {
      "needs_background": "light"
     },
     "output_type": "display_data"
    }
   ],
   "source": [
    "crosstab11_bar = crosstab11.plot(kind = 'bar', stacked = False)"
   ]
  },
  {
   "cell_type": "code",
   "execution_count": 113,
   "id": "661537f1",
   "metadata": {},
   "outputs": [],
   "source": [
    "#save viz\n",
    "crosstab9_bar.figure.savefig(os.path.join(path, 'Analysis', 'Visualizations', 'dep_v_dept.png'))\n",
    "crosstab10_bar.figure.savefig(os.path.join(path, 'Analysis', 'Visualizations', 'dep_v_freq.png'))\n",
    "crosstab11_bar.figure.savefig(os.path.join(path, 'Analysis', 'Visualizations', 'dep_v_spend.png'))"
   ]
  },
  {
   "cell_type": "markdown",
   "id": "eb338d27",
   "metadata": {},
   "source": [
    "### 07.6 Ordering Habits by Income"
   ]
  },
  {
   "cell_type": "code",
   "execution_count": 114,
   "id": "21f57bb3",
   "metadata": {},
   "outputs": [],
   "source": [
    "#create crosstab for products income_flag\n",
    "crosstab12 = pd.crosstab(df['dept_name'], df['income_flag'], dropna = False)"
   ]
  },
  {
   "cell_type": "code",
   "execution_count": 115,
   "id": "4b6e97dc",
   "metadata": {},
   "outputs": [
    {
     "data": {
      "image/png": "[encoded data removed]",
      "text/plain": [
       "<Figure size 432x288 with 1 Axes>"
      ]
     },
     "metadata": {
      "needs_background": "light"
     },
     "output_type": "display_data"
    }
   ],
   "source": [
    "crosstab12_bar = crosstab12.plot(kind= 'bar', stacked = True)"
   ]
  },
  {
   "cell_type": "code",
   "execution_count": 116,
   "id": "1f652f5e",
   "metadata": {},
   "outputs": [],
   "source": [
    "#create crosstab for order frequency by income_flag\n",
    "crosstab13 = pd.crosstab(df['income_flag'], df['frequency_flag'], dropna = False)"
   ]
  },
  {
   "cell_type": "code",
   "execution_count": 117,
   "id": "b6c9861a",
   "metadata": {},
   "outputs": [
    {
     "data": {
      "image/png": "[encoded data removed]",
      "text/plain": [
       "<Figure size 432x288 with 1 Axes>"
      ]
     },
     "metadata": {
      "needs_background": "light"
     },
     "output_type": "display_data"
    }
   ],
   "source": [
    "crosstab13_bar = crosstab13.plot(kind = 'bar', stacked = False)"
   ]
  },
  {
   "cell_type": "code",
   "execution_count": 118,
   "id": "491b89f6",
   "metadata": {},
   "outputs": [],
   "source": [
    "#create crosstab for spending by income_flag\n",
    "crosstab14 = pd.crosstab(df['income_flag'], df['spender_flag'], dropna = False)"
   ]
  },
  {
   "cell_type": "code",
   "execution_count": 119,
   "id": "ee823d26",
   "metadata": {},
   "outputs": [
    {
     "data": {
      "image/png": "[encoded data removed]",
      "text/plain": [
       "<Figure size 432x288 with 1 Axes>"
      ]
     },
     "metadata": {
      "needs_background": "light"
     },
     "output_type": "display_data"
    }
   ],
   "source": [
    "crosstab14_bar = crosstab14.plot(kind = 'bar', stacked = False)"
   ]
  },
  {
   "cell_type": "code",
   "execution_count": 120,
   "id": "5c4aeff9",
   "metadata": {},
   "outputs": [],
   "source": [
    "#save viz\n",
    "crosstab12_bar.figure.savefig(os.path.join(path, 'Analysis', 'Visualizations', 'inc_v_dept.png'))\n",
    "crosstab13_bar.figure.savefig(os.path.join(path, 'Analysis', 'Visualizations', 'inc_v_freq.png'))\n",
    "crosstab14_bar.figure.savefig(os.path.join(path, 'Analysis', 'Visualizations', 'inc_v_spend.png'))"
   ]
  },
  {
   "cell_type": "code",
   "execution_count": null,
   "id": "310e6ac7",
   "metadata": {},
   "outputs": [],
   "source": []
  }
 ],
 "metadata": {
  "kernelspec": {
   "display_name": "Python 3 (ipykernel)",
   "language": "python",
   "name": "python3"
  },
  "language_info": {
   "codemirror_mode": {
    "name": "ipython",
    "version": 3
   },
   "file_extension": ".py",
   "mimetype": "text/x-python",
   "name": "python",
   "nbconvert_exporter": "python",
   "pygments_lexer": "ipython3",
   "version": "3.9.12"
  }
 },
 "nbformat": 4,
 "nbformat_minor": 5
}
