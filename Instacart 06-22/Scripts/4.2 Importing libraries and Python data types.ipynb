{
 "cells": [
  {
   "cell_type": "markdown",
   "id": "b574f640",
   "metadata": {},
   "source": [
    "## Table of Contents\n",
    "\n",
    "01. Importing Libraries\n",
    "02. Data Types"
   ]
  },
  {
   "cell_type": "markdown",
   "id": "893b796c",
   "metadata": {},
   "source": [
    "### 01. Importing libraries"
   ]
  },
  {
   "cell_type": "code",
   "execution_count": 1,
   "id": "c2bcffe6",
   "metadata": {},
   "outputs": [],
   "source": [
    "# Import libraries\n",
    "import pandas as pd\n",
    "import numpy as np\n",
    "import os"
   ]
  },
  {
   "cell_type": "markdown",
   "id": "7d166848",
   "metadata": {},
   "source": [
    "### 02. Data types"
   ]
  },
  {
   "cell_type": "code",
   "execution_count": 33,
   "id": "d4b7dc42",
   "metadata": {},
   "outputs": [],
   "source": [
    "x = 50"
   ]
  },
  {
   "cell_type": "code",
   "execution_count": 34,
   "id": "1be9c731",
   "metadata": {},
   "outputs": [],
   "source": [
    "y = 150"
   ]
  },
  {
   "cell_type": "code",
   "execution_count": 35,
   "id": "b432f03e",
   "metadata": {},
   "outputs": [],
   "source": [
    "z = 250"
   ]
  },
  {
   "cell_type": "code",
   "execution_count": 36,
   "id": "8839829c",
   "metadata": {},
   "outputs": [
    {
     "data": {
      "text/plain": [
       "100"
      ]
     },
     "execution_count": 36,
     "metadata": {},
     "output_type": "execute_result"
    }
   ],
   "source": [
    "x + x"
   ]
  },
  {
   "cell_type": "code",
   "execution_count": 37,
   "id": "696535fd",
   "metadata": {},
   "outputs": [
    {
     "data": {
      "text/plain": [
       "100"
      ]
     },
     "execution_count": 37,
     "metadata": {},
     "output_type": "execute_result"
    }
   ],
   "source": [
    "y - x"
   ]
  },
  {
   "cell_type": "code",
   "execution_count": 38,
   "id": "05e1358c",
   "metadata": {},
   "outputs": [
    {
     "data": {
      "text/plain": [
       "100"
      ]
     },
     "execution_count": 38,
     "metadata": {},
     "output_type": "execute_result"
    }
   ],
   "source": [
    "z - y"
   ]
  },
  {
   "cell_type": "code",
   "execution_count": 39,
   "id": "8ea7da5a",
   "metadata": {},
   "outputs": [],
   "source": [
    "m = 10.5"
   ]
  },
  {
   "cell_type": "code",
   "execution_count": 40,
   "id": "bea16630",
   "metadata": {},
   "outputs": [],
   "source": [
    "n = 2.25"
   ]
  },
  {
   "cell_type": "code",
   "execution_count": 41,
   "id": "00fec9e6",
   "metadata": {},
   "outputs": [
    {
     "data": {
      "text/plain": [
       "4.666666666666667"
      ]
     },
     "execution_count": 41,
     "metadata": {},
     "output_type": "execute_result"
    }
   ],
   "source": [
    "m / n"
   ]
  },
  {
   "cell_type": "code",
   "execution_count": 25,
   "id": "e66d7caf",
   "metadata": {},
   "outputs": [],
   "source": [
    "a = 'basket'"
   ]
  },
  {
   "cell_type": "code",
   "execution_count": 23,
   "id": "e3f98d1e",
   "metadata": {},
   "outputs": [],
   "source": [
    "b = 'ball'"
   ]
  },
  {
   "cell_type": "code",
   "execution_count": 26,
   "id": "f3a036e1",
   "metadata": {},
   "outputs": [
    {
     "data": {
      "text/plain": [
       "'basketball'"
      ]
     },
     "execution_count": 26,
     "metadata": {},
     "output_type": "execute_result"
    }
   ],
   "source": [
    "a + b"
   ]
  },
  {
   "cell_type": "code",
   "execution_count": 29,
   "id": "f5600053",
   "metadata": {},
   "outputs": [],
   "source": [
    "c = 'How was '"
   ]
  },
  {
   "cell_type": "code",
   "execution_count": 30,
   "id": "5fe21d3e",
   "metadata": {},
   "outputs": [
    {
     "data": {
      "text/plain": [
       "'How was basketball'"
      ]
     },
     "execution_count": 30,
     "metadata": {},
     "output_type": "execute_result"
    }
   ],
   "source": [
    "c + a + b "
   ]
  },
  {
   "cell_type": "code",
   "execution_count": 31,
   "id": "254db02b",
   "metadata": {},
   "outputs": [],
   "source": [
    "d = 'Lets play '"
   ]
  },
  {
   "cell_type": "code",
   "execution_count": 32,
   "id": "384031b3",
   "metadata": {},
   "outputs": [
    {
     "data": {
      "text/plain": [
       "'Lets play basketball'"
      ]
     },
     "execution_count": 32,
     "metadata": {},
     "output_type": "execute_result"
    }
   ],
   "source": [
    "d + a + b"
   ]
  },
  {
   "cell_type": "code",
   "execution_count": null,
   "id": "77b365e0",
   "metadata": {},
   "outputs": [],
   "source": []
  }
 ],
 "metadata": {
  "kernelspec": {
   "display_name": "Python 3 (ipykernel)",
   "language": "python",
   "name": "python3"
  },
  "language_info": {
   "codemirror_mode": {
    "name": "ipython",
    "version": 3
   },
   "file_extension": ".py",
   "mimetype": "text/x-python",
   "name": "python",
   "nbconvert_exporter": "python",
   "pygments_lexer": "ipython3",
   "version": "3.9.12"
  }
 },
 "nbformat": 4,
 "nbformat_minor": 5
}
